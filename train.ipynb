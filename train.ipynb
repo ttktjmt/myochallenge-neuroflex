{
  "cells": [
    {
      "cell_type": "markdown",
      "metadata": {
        "id": "HD5YE3jbQ3YO"
      },
      "source": [
        "## Setting the environment\n"
      ]
    },
    {
      "cell_type": "code",
      "execution_count": 1,
      "metadata": {
        "colab": {
          "background_save": true,
          "base_uri": "https://localhost:8080/"
        },
        "id": "FJdm6gfuQqYS",
        "outputId": "f0cfc35f-4cec-49cc-d1f6-1ef2fb6b7184"
      },
      "outputs": [
        {
          "name": "stdout",
          "output_type": "stream",
          "text": [
            "Requirement already satisfied: wget in ./venv/lib/python3.10/site-packages (3.2)\n",
            "Found existing installation: numpy 2.1.3\n",
            "Uninstalling numpy-2.1.3:\n",
            "  Successfully uninstalled numpy-2.1.3\n",
            "Collecting numpy==2.1.3\n",
            "  Using cached numpy-2.1.3-cp310-cp310-manylinux_2_17_x86_64.manylinux2014_x86_64.whl (16.3 MB)\n",
            "Installing collected packages: numpy\n",
            "Successfully installed numpy-2.1.3\n"
          ]
        },
        {
          "name": "stderr",
          "output_type": "stream",
          "text": [
            "libEGL warning: failed to open /dev/dri/renderD128: Permission denied\n",
            "\n",
            "libEGL warning: NEEDS EXTENSION: falling back to kms_swrast\n"
          ]
        },
        {
          "name": "stdout",
          "output_type": "stream",
          "text": [
            "pygame 2.6.1 (SDL 2.28.4, Python 3.10.12)\n",
            "Hello from the pygame community. https://www.pygame.org/contribute.html\n",
            "MyoSuite:> Registering Myo Envs\n",
            "numpy version: 2.1.3\n"
          ]
        }
      ],
      "source": [
        "!pip install myosuite==2.8.3 --quiet\n",
        "!pip install \"stable-baselines3[extra]\" --quiet\n",
        "!pip install tqdm --quiet\n",
        "!pip install mujoco==3.1.2 --quiet\n",
        "!pip install sk-video --quiet\n",
        "!pip install wget\n",
        "!pip uninstall numpy -y\n",
        "!pip install numpy==2.1.3\n",
        "import os\n",
        "if 'google.colab' in str(get_ipython()):\n",
        "    current_dir = os.getcwd()\n",
        "    print(current_dir)\n",
        "    if current_dir == '/content':\n",
        "        !git clone https://github.com/ttktjmt/myochallenge-neuroflex.git\n",
        "        os.chdir('myochallenge-neuroflex')\n",
        "\n",
        "os.environ['MUJOCO_GL'] = 'egl'\n",
        "import mujoco\n",
        "import wget\n",
        "from IPython.display import HTML\n",
        "from base64 import b64encode\n",
        "import myosuite\n",
        "from myosuite.utils import gym\n",
        "import skvideo.io\n",
        "import numpy as np\n",
        "from stable_baselines3 import PPO\n",
        "from stable_baselines3.common.callbacks import CheckpointCallback\n",
        "from tqdm.notebook import tqdm\n",
        "import importlib\n",
        "import envs\n",
        "import warnings\n",
        "from datetime import datetime\n",
        "from IPython.display import clear_output, Image, display\n",
        "import PIL.Image\n",
        "import numpy as np\n",
        "# the descrepancy of numpy version between the environment where the policy is trained and loaded can cause irrelevant issues\n",
        "print(f\"numpy version: {np.__version__}\")\n",
        "import os\n",
        "import skvideo.io"
      ]
    },
    {
      "cell_type": "markdown",
      "metadata": {
        "id": "JZcidHz9Tf5E"
      },
      "source": [
        "## Define Functions"
      ]
    },
    {
      "cell_type": "code",
      "execution_count": 2,
      "metadata": {
        "id": "q5iEl64VQ8Gk"
      },
      "outputs": [],
      "source": [
        "def show_video(video_path, video_width = 400):\n",
        "\n",
        "  video_file = open(video_path, \"r+b\").read()\n",
        "\n",
        "  video_url = f\"data:video/mp4;base64,{b64encode(video_file).decode()}\"\n",
        "  return HTML(f\"\"\"<video autoplay width={video_width} controls><source src=\"{video_url}\"></video>\"\"\")"
      ]
    },
    {
      "cell_type": "markdown",
      "metadata": {
        "id": "ji8-37YOUAkr"
      },
      "source": [
        "## Download baseline from Google Drive"
      ]
    },
    {
      "cell_type": "code",
      "execution_count": 3,
      "metadata": {
        "id": "sgXPrO3gUAJT"
      },
      "outputs": [
        {
          "name": "stderr",
          "output_type": "stream",
          "text": [
            "--2024-11-22 13:15:19--  https://drive.google.com/uc?export=download&id=168S3oTBmXuf23zDDGMM3tCJ3HBnjYhsM\n",
            "Resolving drive.google.com (drive.google.com)... 172.217.31.142, 2404:6800:4004:825::200e\n",
            "Connecting to drive.google.com (drive.google.com)|172.217.31.142|:443... connected.\n",
            "HTTP request sent, awaiting response... 303 See Other\n",
            "Location: https://drive.usercontent.google.com/download?id=168S3oTBmXuf23zDDGMM3tCJ3HBnjYhsM&export=download [following]\n",
            "--2024-11-22 13:15:20--  https://drive.usercontent.google.com/download?id=168S3oTBmXuf23zDDGMM3tCJ3HBnjYhsM&export=download\n",
            "Resolving drive.usercontent.google.com (drive.usercontent.google.com)... 142.250.196.129, 2404:6800:4004:80a::2001\n",
            "Connecting to drive.usercontent.google.com (drive.usercontent.google.com)|142.250.196.129|:443... connected.\n",
            "HTTP request sent, awaiting response... 200 OK\n",
            "Length: 3167662 (3.0M) [application/octet-stream]\n",
            "Saving to: ‘baseline.zip’\n",
            "\n",
            "     0K .......... .......... .......... .......... ..........  1%  626K 5s\n",
            "    50K .......... .......... .......... .......... ..........  3%  751K 4s\n",
            "   100K .......... .......... .......... .......... ..........  4% 3.67M 3s\n",
            "   150K .......... .......... .......... .......... ..........  6% 2.28M 3s\n",
            "   200K .......... .......... .......... .......... ..........  8% 2.61M 2s\n",
            "   250K .......... .......... .......... .......... ..........  9% 7.16M 2s\n",
            "   300K .......... .......... .......... .......... .......... 11% 1.48M 2s\n",
            "   350K .......... .......... .......... .......... .......... 12% 45.6M 2s\n",
            "   400K .......... .......... .......... .......... .......... 14% 17.3M 1s\n",
            "   450K .......... .......... .......... .......... .......... 16% 6.59M 1s\n",
            "   500K .......... .......... .......... .......... .......... 17% 9.63M 1s\n",
            "   550K .......... .......... .......... .......... .......... 19% 8.31M 1s\n",
            "   600K .......... .......... .......... .......... .......... 21% 8.20M 1s\n",
            "   650K .......... .......... .......... .......... .......... 22% 8.30M 1s\n",
            "   700K .......... .......... .......... .......... .......... 24% 10.1M 1s\n",
            "   750K .......... .......... .......... .......... .......... 25% 5.36M 1s\n",
            "   800K .......... .......... .......... .......... .......... 27% 8.15M 1s\n",
            "   850K .......... .......... .......... .......... .......... 29% 3.96M 1s\n",
            "   900K .......... .......... .......... .......... .......... 30% 4.20M 1s\n",
            "   950K .......... .......... .......... .......... .......... 32% 3.92M 1s\n",
            "  1000K .......... .......... .......... .......... .......... 33% 11.6M 1s\n",
            "  1050K .......... .......... .......... .......... .......... 35% 5.50M 1s\n",
            "  1100K .......... .......... .......... .......... .......... 37% 31.2M 1s\n",
            "  1150K .......... .......... .......... .......... .......... 38% 16.4M 1s\n",
            "  1200K .......... .......... .......... .......... .......... 40% 7.48M 1s\n",
            "  1250K .......... .......... .......... .......... .......... 42% 47.5M 0s\n",
            "  1300K .......... .......... .......... .......... .......... 43% 23.5M 0s\n",
            "  1350K .......... .......... .......... .......... .......... 45% 25.4M 0s\n",
            "  1400K .......... .......... .......... .......... .......... 46% 29.8M 0s\n",
            "  1450K .......... .......... .......... .......... .......... 48% 22.6M 0s\n",
            "  1500K .......... .......... .......... .......... .......... 50% 12.3M 0s\n",
            "  1550K .......... .......... .......... .......... .......... 51% 6.99M 0s\n",
            "  1600K .......... .......... .......... .......... .......... 53% 9.38M 0s\n",
            "  1650K .......... .......... .......... .......... .......... 54% 6.56M 0s\n",
            "  1700K .......... .......... .......... .......... .......... 56% 13.8M 0s\n",
            "  1750K .......... .......... .......... .......... .......... 58% 5.96M 0s\n",
            "  1800K ........."
          ]
        },
        {
          "name": "stdout",
          "output_type": "stream",
          "text": [
            "Successfully downloaded baseline.zip\n"
          ]
        },
        {
          "name": "stderr",
          "output_type": "stream",
          "text": [
            ". .......... .......... .......... .......... 59% 4.57M 0s\n",
            "  1850K .......... .......... .......... .......... .......... 61% 17.2M 0s\n",
            "  1900K .......... .......... .......... .......... .......... 63% 27.1M 0s\n",
            "  1950K .......... .......... .......... .......... .......... 64% 13.5M 0s\n",
            "  2000K .......... .......... .......... .......... .......... 66% 9.14M 0s\n",
            "  2050K .......... .......... .......... .......... .......... 67% 6.96M 0s\n",
            "  2100K .......... .......... .......... .......... .......... 69% 10.5M 0s\n",
            "  2150K .......... .......... .......... .......... .......... 71% 11.1M 0s\n",
            "  2200K .......... .......... .......... .......... .......... 72% 9.24M 0s\n",
            "  2250K .......... .......... .......... .......... .......... 74% 9.21M 0s\n",
            "  2300K .......... .......... .......... .......... .......... 75% 7.06M 0s\n",
            "  2350K .......... .......... .......... .......... .......... 77% 9.61M 0s\n",
            "  2400K .......... .......... .......... .......... .......... 79% 8.33M 0s\n",
            "  2450K .......... .......... .......... .......... .......... 80% 8.18M 0s\n",
            "  2500K .......... .......... .......... .......... .......... 82% 12.6M 0s\n",
            "  2550K .......... .......... .......... .......... .......... 84% 8.24M 0s\n",
            "  2600K .......... .......... .......... .......... .......... 85% 8.28M 0s\n",
            "  2650K .......... .......... .......... .......... .......... 87% 11.2M 0s\n",
            "  2700K .......... .......... .......... .......... .......... 88% 8.53M 0s\n",
            "  2750K .......... .......... .......... .......... .......... 90% 9.91M 0s\n",
            "  2800K .......... .......... .......... .......... .......... 92% 4.96M 0s\n",
            "  2850K .......... .......... .......... .......... .......... 93% 23.0M 0s\n",
            "  2900K .......... .......... .......... .......... .......... 95% 9.20M 0s\n",
            "  2950K .......... .......... .......... .......... .......... 96% 9.27M 0s\n",
            "  3000K .......... .......... .......... .......... .......... 98% 9.01M 0s\n",
            "  3050K .......... .......... .......... .......... ...       100% 5.84M=0.5s\n",
            "\n",
            "2024-11-22 13:15:26 (5.60 MB/s) - ‘baseline.zip’ saved [3167662/3167662]\n",
            "\n"
          ]
        }
      ],
      "source": [
        "file_id = '168S3oTBmXuf23zDDGMM3tCJ3HBnjYhsM'\n",
        "download_url = f'https://drive.google.com/uc?export=download&id={file_id}'\n",
        "target_file = 'baseline.zip'  # Change the file name and extension as needed\n",
        "\n",
        "os.system(f'wget --no-check-certificate \"{download_url}\" -O {target_file}')\n",
        "\n",
        "if os.path.exists(target_file):\n",
        "    print(f'Successfully downloaded {target_file}')\n",
        "else:\n",
        "    print('Failed to download the file')"
      ]
    },
    {
      "cell_type": "markdown",
      "metadata": {
        "id": "Cy48aX38V3Ap"
      },
      "source": [
        "## Environment"
      ]
    },
    {
      "cell_type": "code",
      "execution_count": 4,
      "metadata": {
        "id": "ztQcB4i3V7L_"
      },
      "outputs": [
        {
          "name": "stderr",
          "output_type": "stream",
          "text": [
            "/home/ta747375ki/myochallenge-neuroflex/venv/lib/python3.10/site-packages/gymnasium/envs/registration.py:694: UserWarning: \u001b[33mWARN: Overriding environment CustomBimanualEnv-v0 already in registry.\u001b[0m\n",
            "  logger.warn(f\"Overriding environment {new_spec.id} already in registry.\")\n"
          ]
        },
        {
          "name": "stdout",
          "output_type": "stream",
          "text": [
            "\u001b[36m    MyoSuite: A contact-rich simulation suite for musculoskeletal motor control\n",
            "        Vittorio Caggiano, Huawei Wang, Guillaume Durandau, Massimo Sartori, Vikash Kumar\n",
            "        L4DC-2019 | https://sites.google.com/view/myosuite\n",
            "    \u001b[0m\n"
          ]
        },
        {
          "name": "stderr",
          "output_type": "stream",
          "text": [
            "/home/ta747375ki/myochallenge-neuroflex/envs/bimanual.py:498: DeprecationWarning: Conversion of an array with ndim > 0 to a scalar is deprecated, and will error in future. Ensure you extract a single element from your array before performing this operation. (Deprecated NumPy 1.25.)\n",
            "  self.manip_joint_range = np.arange(model.joint(\"manip_object/freejoint\").qposadr,\n",
            "/home/ta747375ki/myochallenge-neuroflex/envs/bimanual.py:498: DeprecationWarning: Conversion of an array with ndim > 0 to a scalar is deprecated, and will error in future. Ensure you extract a single element from your array before performing this operation. (Deprecated NumPy 1.25.)\n",
            "  self.manip_joint_range = np.arange(model.joint(\"manip_object/freejoint\").qposadr,\n",
            "/home/ta747375ki/myochallenge-neuroflex/envs/bimanual.py:498: DeprecationWarning: Conversion of an array with ndim > 0 to a scalar is deprecated, and will error in future. Ensure you extract a single element from your array before performing this operation. (Deprecated NumPy 1.25.)\n",
            "  self.manip_joint_range = np.arange(model.joint(\"manip_object/freejoint\").qposadr,\n",
            "/home/ta747375ki/myochallenge-neuroflex/envs/bimanual.py:501: DeprecationWarning: Conversion of an array with ndim > 0 to a scalar is deprecated, and will error in future. Ensure you extract a single element from your array before performing this operation. (Deprecated NumPy 1.25.)\n",
            "  self.manip_dof_range = np.arange(model.joint(\"manip_object/freejoint\").dofadr,\n",
            "/home/ta747375ki/myochallenge-neuroflex/envs/bimanual.py:501: DeprecationWarning: Conversion of an array with ndim > 0 to a scalar is deprecated, and will error in future. Ensure you extract a single element from your array before performing this operation. (Deprecated NumPy 1.25.)\n",
            "  self.manip_dof_range = np.arange(model.joint(\"manip_object/freejoint\").dofadr,\n",
            "/home/ta747375ki/myochallenge-neuroflex/envs/bimanual.py:501: DeprecationWarning: Conversion of an array with ndim > 0 to a scalar is deprecated, and will error in future. Ensure you extract a single element from your array before performing this operation. (Deprecated NumPy 1.25.)\n",
            "  self.manip_dof_range = np.arange(model.joint(\"manip_object/freejoint\").dofadr,\n",
            "/home/ta747375ki/myochallenge-neuroflex/envs/bimanual.py:186: DeprecationWarning: Conversion of an array with ndim > 0 to a scalar is deprecated, and will error in future. Ensure you extract a single element from your array before performing this operation. (Deprecated NumPy 1.25.)\n",
            "  self.obj_vert_addr = np.arange(self.sim.model.mesh(self.obj_mid).vertadr,\n",
            "/home/ta747375ki/myochallenge-neuroflex/envs/bimanual.py:186: DeprecationWarning: Conversion of an array with ndim > 0 to a scalar is deprecated, and will error in future. Ensure you extract a single element from your array before performing this operation. (Deprecated NumPy 1.25.)\n",
            "  self.obj_vert_addr = np.arange(self.sim.model.mesh(self.obj_mid).vertadr,\n",
            "/home/ta747375ki/myochallenge-neuroflex/envs/bimanual.py:186: DeprecationWarning: Conversion of an array with ndim > 0 to a scalar is deprecated, and will error in future. Ensure you extract a single element from your array before performing this operation. (Deprecated NumPy 1.25.)\n",
            "  self.obj_vert_addr = np.arange(self.sim.model.mesh(self.obj_mid).vertadr,\n",
            "/home/ta747375ki/myochallenge-neuroflex/envs/bimanual.py:188: DeprecationWarning: Conversion of an array with ndim > 0 to a scalar is deprecated, and will error in future. Ensure you extract a single element from your array before performing this operation. (Deprecated NumPy 1.25.)\n",
            "  q = self.sim.model.geom(self.obj_gid - 1).quat\n",
            "/home/ta747375ki/myochallenge-neuroflex/envs/bimanual.py:192: DeprecationWarning: Conversion of an array with ndim > 0 to a scalar is deprecated, and will error in future. Ensure you extract a single element from your array before performing this operation. (Deprecated NumPy 1.25.)\n",
            "  self.sim.model.geom(self.obj_gid - 1).quat = [1, 0, 0, 0]\n",
            "/home/ta747375ki/myochallenge-neuroflex/envs/bimanual.py:193: DeprecationWarning: Conversion of an array with ndim > 0 to a scalar is deprecated, and will error in future. Ensure you extract a single element from your array before performing this operation. (Deprecated NumPy 1.25.)\n",
            "  self.sim.model.mesh_vert[self.obj_vert_addr] += (self.sim.model.geom(self.obj_gid - 1).pos\n",
            "/home/ta747375ki/myochallenge-neuroflex/envs/bimanual.py:194: DeprecationWarning: Conversion of an array with ndim > 0 to a scalar is deprecated, and will error in future. Ensure you extract a single element from your array before performing this operation. (Deprecated NumPy 1.25.)\n",
            "  - self.sim.model.geom(self.obj_gid).pos)[None, :]\n",
            "/home/ta747375ki/myochallenge-neuroflex/envs/bimanual.py:196: DeprecationWarning: Conversion of an array with ndim > 0 to a scalar is deprecated, and will error in future. Ensure you extract a single element from your array before performing this operation. (Deprecated NumPy 1.25.)\n",
            "  self.sim.model.geom(self.obj_gid - 1).pos = self.sim.model.geom(self.obj_gid).pos\n",
            "/home/ta747375ki/myochallenge-neuroflex/envs/bimanual.py:196: DeprecationWarning: Conversion of an array with ndim > 0 to a scalar is deprecated, and will error in future. Ensure you extract a single element from your array before performing this operation. (Deprecated NumPy 1.25.)\n",
            "  self.sim.model.geom(self.obj_gid - 1).pos = self.sim.model.geom(self.obj_gid).pos\n",
            "/home/ta747375ki/myochallenge-neuroflex/venv/lib/python3.10/site-packages/myosuite/envs/myo/myochallenge/bimanual_v0.py:432: DeprecationWarning: Conversion of an array with ndim > 0 to a scalar is deprecated, and will error in future. Ensure you extract a single element from your array before performing this operation. (Deprecated NumPy 1.25.)\n",
            "  self.manip_joint_range = np.arange(model.joint(\"manip_object/freejoint\").qposadr,\n",
            "/home/ta747375ki/myochallenge-neuroflex/venv/lib/python3.10/site-packages/myosuite/envs/myo/myochallenge/bimanual_v0.py:432: DeprecationWarning: Conversion of an array with ndim > 0 to a scalar is deprecated, and will error in future. Ensure you extract a single element from your array before performing this operation. (Deprecated NumPy 1.25.)\n",
            "  self.manip_joint_range = np.arange(model.joint(\"manip_object/freejoint\").qposadr,\n",
            "/home/ta747375ki/myochallenge-neuroflex/venv/lib/python3.10/site-packages/myosuite/envs/myo/myochallenge/bimanual_v0.py:432: DeprecationWarning: Conversion of an array with ndim > 0 to a scalar is deprecated, and will error in future. Ensure you extract a single element from your array before performing this operation. (Deprecated NumPy 1.25.)\n",
            "  self.manip_joint_range = np.arange(model.joint(\"manip_object/freejoint\").qposadr,\n",
            "/home/ta747375ki/myochallenge-neuroflex/venv/lib/python3.10/site-packages/myosuite/envs/myo/myochallenge/bimanual_v0.py:435: DeprecationWarning: Conversion of an array with ndim > 0 to a scalar is deprecated, and will error in future. Ensure you extract a single element from your array before performing this operation. (Deprecated NumPy 1.25.)\n",
            "  self.manip_dof_range = np.arange(model.joint(\"manip_object/freejoint\").dofadr,\n",
            "/home/ta747375ki/myochallenge-neuroflex/venv/lib/python3.10/site-packages/myosuite/envs/myo/myochallenge/bimanual_v0.py:435: DeprecationWarning: Conversion of an array with ndim > 0 to a scalar is deprecated, and will error in future. Ensure you extract a single element from your array before performing this operation. (Deprecated NumPy 1.25.)\n",
            "  self.manip_dof_range = np.arange(model.joint(\"manip_object/freejoint\").dofadr,\n",
            "/home/ta747375ki/myochallenge-neuroflex/venv/lib/python3.10/site-packages/myosuite/envs/myo/myochallenge/bimanual_v0.py:435: DeprecationWarning: Conversion of an array with ndim > 0 to a scalar is deprecated, and will error in future. Ensure you extract a single element from your array before performing this operation. (Deprecated NumPy 1.25.)\n",
            "  self.manip_dof_range = np.arange(model.joint(\"manip_object/freejoint\").dofadr,\n"
          ]
        }
      ],
      "source": [
        "importlib.reload(envs)\n",
        "env_name = 'CustomBimanualEnv-v0'\n",
        "env = gym.make(env_name)"
      ]
    },
    {
      "cell_type": "code",
      "execution_count": 6,
      "metadata": {
        "colab": {
          "base_uri": "https://localhost:8080/"
        },
        "id": "OE0zSmINWElF",
        "outputId": "4cdd3d84-797e-419e-c7aa-8c3a1fb7ed08"
      },
      "outputs": [
        {
          "name": "stdout",
          "output_type": "stream",
          "text": [
            "Model loaded successfully!\n"
          ]
        },
        {
          "name": "stderr",
          "output_type": "stream",
          "text": [
            "/home/ta747375ki/myochallenge-neuroflex/venv/lib/python3.10/site-packages/stable_baselines3/common/save_util.py:165: DeprecationWarning: numpy.core.numeric is deprecated and has been renamed to numpy._core.numeric. The numpy._core namespace contains private NumPy internals and its use is discouraged, as NumPy internals can change without warning in any release. In practice, most real-world usage of numpy.core is to access functionality in the public NumPy API. If that is the case, use the public NumPy API. If not, you are using NumPy internals. If you would still like to access an internal attribute, use numpy._core.numeric._frombuffer.\n",
            "  deserialized_object = cloudpickle.loads(base64_object)\n",
            "/home/ta747375ki/myochallenge-neuroflex/venv/lib/python3.10/site-packages/stable_baselines3/common/save_util.py:165: DeprecationWarning: numpy.core.numeric is deprecated and has been renamed to numpy._core.numeric. The numpy._core namespace contains private NumPy internals and its use is discouraged, as NumPy internals can change without warning in any release. In practice, most real-world usage of numpy.core is to access functionality in the public NumPy API. If that is the case, use the public NumPy API. If not, you are using NumPy internals. If you would still like to access an internal attribute, use numpy._core.numeric._frombuffer.\n",
            "  deserialized_object = cloudpickle.loads(base64_object)\n",
            "/home/ta747375ki/myochallenge-neuroflex/venv/lib/python3.10/site-packages/stable_baselines3/common/save_util.py:165: DeprecationWarning: numpy.core.numeric is deprecated and has been renamed to numpy._core.numeric. The numpy._core namespace contains private NumPy internals and its use is discouraged, as NumPy internals can change without warning in any release. In practice, most real-world usage of numpy.core is to access functionality in the public NumPy API. If that is the case, use the public NumPy API. If not, you are using NumPy internals. If you would still like to access an internal attribute, use numpy._core.numeric._frombuffer.\n",
            "  deserialized_object = cloudpickle.loads(base64_object)\n",
            "/home/ta747375ki/myochallenge-neuroflex/venv/lib/python3.10/site-packages/stable_baselines3/common/save_util.py:165: DeprecationWarning: numpy.core.numeric is deprecated and has been renamed to numpy._core.numeric. The numpy._core namespace contains private NumPy internals and its use is discouraged, as NumPy internals can change without warning in any release. In practice, most real-world usage of numpy.core is to access functionality in the public NumPy API. If that is the case, use the public NumPy API. If not, you are using NumPy internals. If you would still like to access an internal attribute, use numpy._core.numeric._frombuffer.\n",
            "  deserialized_object = cloudpickle.loads(base64_object)\n"
          ]
        }
      ],
      "source": [
        "checkpoint_callback = CheckpointCallback(save_freq=50000, save_path='./logs/', name_prefix='ppo_model')\n",
        "model_file_path = \"baseline.zip\"\n",
        "# model_file_path = \"logs/ppo_model_400000_steps.zip\"\n",
        "# model_file_path = \"agent/model.zip\"\n",
        "\n",
        "if os.path.exists(model_file_path):\n",
        "    try:\n",
        "        model = PPO.load(model_file_path, env)\n",
        "        print(\"Model loaded successfully!\")\n",
        "    except Exception as e:\n",
        "        print(f\"Error loading model: {e}\")\n",
        "else:\n",
        "    print(\"Model file does not exist. Please train the model first.\")\n",
        "\n",
        "env.reset()\n",
        "env.seed(51) #setting a seed for the env\n",
        "tb_log_name = \"ppo_training\""
      ]
    },
    {
      "cell_type": "markdown",
      "metadata": {
        "id": "MFHhxLBX-a2G"
      },
      "source": [
        "## Train"
      ]
    },
    {
      "cell_type": "code",
      "execution_count": 7,
      "metadata": {
        "id": "sCPmGdmYdPXR"
      },
      "outputs": [
        {
          "name": "stderr",
          "output_type": "stream",
          "text": [
            "/home/ta747375ki/myochallenge-neuroflex/venv/lib/python3.10/site-packages/gymnasium/utils/passive_env_checker.py:159: UserWarning: \u001b[33mWARN: The obs returned by the `step()` method is not within the observation space.\u001b[0m\n",
            "  logger.warn(f\"{pre} is not within the observation space.\")\n"
          ]
        }
      ],
      "source": [
        "model.learn(total_timesteps=500000, callback=checkpoint_callback, tb_log_name=tb_log_name)"
      ]
    },
    {
      "cell_type": "markdown",
      "metadata": {
        "id": "F3Mi3lAZ-eai"
      },
      "source": [
        "## Visualize"
      ]
    },
    {
      "cell_type": "code",
      "execution_count": null,
      "metadata": {
        "colab": {
          "base_uri": "https://localhost:8080/"
        },
        "id": "Iy4aj3jTWM2S",
        "outputId": "a59ffa30-445e-443d-ec65-7b0a89f26de1"
      },
      "outputs": [
        {
          "name": "stderr",
          "output_type": "stream",
          "text": [
            "/usr/local/lib/python3.10/dist-packages/myosuite/envs/myo/myochallenge/bimanual_v0.py:368: DeprecationWarning: Conversion of an array with ndim > 0 to a scalar is deprecated, and will error in future. Ensure you extract a single element from your array before performing this operation. (Deprecated NumPy 1.25.)\n",
            "  self.sim.model.geom(self.obj_gid).size = self.obj_size0 * obj_scales\n",
            "/usr/local/lib/python3.10/dist-packages/gymnasium/core.py:311: UserWarning: \u001b[33mWARN: env.obs_dict to get variables from other wrappers is deprecated and will be removed in v1.0, to get this variable you can do `env.unwrapped.obs_dict` for environment variables or `env.get_wrapper_attr('obs_dict')` that will search the reminding wrappers.\u001b[0m\n",
            "  logger.warn(\n",
            "/usr/local/lib/python3.10/dist-packages/gymnasium/core.py:311: UserWarning: \u001b[33mWARN: env.obsdict2obsvec to get variables from other wrappers is deprecated and will be removed in v1.0, to get this variable you can do `env.unwrapped.obsdict2obsvec` for environment variables or `env.get_wrapper_attr('obsdict2obsvec')` that will search the reminding wrappers.\u001b[0m\n",
            "  logger.warn(\n",
            "/usr/local/lib/python3.10/dist-packages/gymnasium/core.py:311: UserWarning: \u001b[33mWARN: env.obs_keys to get variables from other wrappers is deprecated and will be removed in v1.0, to get this variable you can do `env.unwrapped.obs_keys` for environment variables or `env.get_wrapper_attr('obs_keys')` that will search the reminding wrappers.\u001b[0m\n",
            "  logger.warn(\n",
            "/usr/local/lib/python3.10/dist-packages/gymnasium/core.py:311: UserWarning: \u001b[33mWARN: env.sim to get variables from other wrappers is deprecated and will be removed in v1.0, to get this variable you can do `env.unwrapped.sim` for environment variables or `env.get_wrapper_attr('sim')` that will search the reminding wrappers.\u001b[0m\n",
            "  logger.warn(\n"
          ]
        }
      ],
      "source": [
        "warnings.filterwarnings(\"ignore\", message=\".*tostring.*is deprecated.*\")\n",
        "\n",
        "movie = True  # we want to save a video\n",
        "frames = []\n",
        "view = 'front'\n",
        "obj_qpos_list = []\n",
        "release_threshold = 0.08\n",
        "released_step = -1\n",
        "waiting_step1 = 100\n",
        "waiting_step2 = 150\n",
        "waiting_step3 = 200\n",
        "\n",
        "for _ in range(3):\n",
        "    ep_rewards = []\n",
        "    done = False\n",
        "    obs = env.reset()\n",
        "    for step in range(300):\n",
        "        obs_dict = env.obs_dict\n",
        "        obs = env.obsdict2obsvec(obs_dict, env.obs_keys)[1]\n",
        "        action, _ = model.predict(obs, deterministic=True)\n",
        "        # myoHand control\n",
        "        action[30] = 1\n",
        "        obj_xpos = obs_dict['object_qpos'][0]\n",
        "        if obj_xpos > release_threshold and released_step == -1:\n",
        "            released_step = step\n",
        "\n",
        "        if step - released_step > waiting_step1:\n",
        "            action[32:40] = 0\n",
        "            action[40:49] = 1\n",
        "\n",
        "        # MPL control\n",
        "        action[-17:] = np.array([-0.65001469, 1., -0.23187843, 0.59583695, 0.92356688, -0.16,\n",
        "                                -0.28, -0.88, 0.25, -0.846, -0.24981132, -0.91823529,\n",
        "                                -0.945, -0.925, -0.929, -0.49, -0.18])\n",
        "        if step - released_step > waiting_step2:\n",
        "            action[-17:] = np.array([-0.4199236, 1., -0.9840558, 0.35299219, 0.92356688, 0.02095238,\n",
        "                                    -0.28, -0.88, 0.25, -0.846, -0.24981132, -0.91823529,\n",
        "                                    -0.945, -0.925, -0.929, -0.49, -0.918])\n",
        "        if step - released_step > waiting_step3:\n",
        "            action[-17:] = np.array([-0.4199236, 1., -0.9840558, 0.35299219, 0.3910828, 0.02095238,\n",
        "                                    -0.28, -0.88, 0.25, -0.846, -0.24981132, -0.91823529,\n",
        "                                    -0.945, -0.925, -0.929, -0.49, -0.918])\n",
        "\n",
        "        obs, reward, done, info, info_2 = env.step(action)\n",
        "        if movie:\n",
        "            geom_1_indices = np.where(env.sim.model.geom_group == 1)\n",
        "            env.sim.model.geom_rgba[geom_1_indices, 3] = 0\n",
        "            frame = env.sim.renderer.render_offscreen(width=400, height=400, camera_id=1)\n",
        "\n",
        "            # Clear previous output and display new frame\n",
        "            obj_qpos_list.append(obs_dict['object_qpos'])\n",
        "\n",
        "            # Convert numpy array to PIL Image\n",
        "            # clear_output(wait=True)\n",
        "            # pil_image = PIL.Image.fromarray(frame)\n",
        "            # display(pil_image)\n",
        "\n",
        "            frames.append(frame)\n",
        "\n",
        "env.close()\n",
        "\n",
        "# Save video\n",
        "os.makedirs('videos', exist_ok=True)\n",
        "current_date = datetime.now().strftime(\"%Y-%m-%d_%H-%M-%S\")\n",
        "skvideo.io.vwrite(f'videos/test_policy_{current_date}.mp4',\n",
        "                  np.asarray(frames),\n",
        "                  inputdict={'-r': '100'},\n",
        "                  outputdict={\"-pix_fmt\": \"yuv420p\"})\n",
        "show_video(f'videos/test_policy_{current_date}.mp4')"
      ]
    }
  ],
  "metadata": {
    "colab": {
      "provenance": []
    },
    "kernelspec": {
      "display_name": "Python 3",
      "name": "python3"
    },
    "language_info": {
      "codemirror_mode": {
        "name": "ipython",
        "version": 3
      },
      "file_extension": ".py",
      "mimetype": "text/x-python",
      "name": "python",
      "nbconvert_exporter": "python",
      "pygments_lexer": "ipython3",
      "version": "3.10.12"
    }
  },
  "nbformat": 4,
  "nbformat_minor": 0
}
