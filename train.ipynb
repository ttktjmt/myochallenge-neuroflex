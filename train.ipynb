{
  "cells": [
    {
      "cell_type": "markdown",
      "metadata": {
        "id": "HD5YE3jbQ3YO"
      },
      "source": [
        "## 1. Set up the environment\n"
      ]
    },
    {
      "cell_type": "code",
      "execution_count": 5,
      "metadata": {
        "colab": {
          "base_uri": "https://localhost:8080/"
        },
        "id": "FJdm6gfuQqYS",
        "outputId": "e36b9ed4-ce44-423a-8d33-436bb8462716"
      },
      "outputs": [
        {
          "name": "stdout",
          "output_type": "stream",
          "text": [
            "env: MUJOCO_GL=egl\n"
          ]
        }
      ],
      "source": [
        "!pip install myosuite==2.8.3 --quiet\n",
        "!pip install \"stable-baselines3[extra]\" --quiet\n",
        "!pip install tqdm --quiet\n",
        "!pip install mujoco==3.1.2 --quiet\n",
        "!pip install sk-video --quiet\n",
        "%env MUJOCO_GL=egl\n",
        "import mujoco"
      ]
    },
    {
      "cell_type": "code",
      "execution_count": 6,
      "metadata": {},
      "outputs": [],
      "source": [
        "import myosuite\n",
        "from myosuite.utils import gym\n",
        "import skvideo.io\n",
        "import numpy as np\n",
        "import os\n",
        "from stable_baselines3 import PPO\n",
        "from stable_baselines3.common.callbacks import CheckpointCallback\n",
        "# from tqdm import tqdm_notebook as tqdm\n",
        "from tqdm.notebook import tqdm\n",
        "from IPython.display import HTML\n",
        "from base64 import b64encode\n",
        "# !pip install wget\n",
        "# import wget\n",
        "import envs\n",
        "\n",
        "def show_video(video_path, video_width = 400):\n",
        "\n",
        "  video_file = open(video_path, \"r+b\").read()\n",
        "\n",
        "  video_url = f\"data:video/mp4;base64,{b64encode(video_file).decode()}\"\n",
        "  return HTML(f\"\"\"<video autoplay width={video_width} controls><source src=\"{video_url}\"></video>\"\"\")"
      ]
    },
    {
      "cell_type": "markdown",
      "metadata": {
        "id": "Cy48aX38V3Ap"
      },
      "source": [
        "## 2. Prepare env and model\n"
      ]
    },
    {
      "cell_type": "code",
      "execution_count": 7,
      "metadata": {
        "colab": {
          "base_uri": "https://localhost:8080/"
        },
        "id": "ztQcB4i3V7L_",
        "outputId": "8c49b8a8-303f-4530-8a4f-1e2136e9c7f7"
      },
      "outputs": [
        {
          "name": "stderr",
          "output_type": "stream",
          "text": [
            "/home/ta747375ki/myochallenge-neuroflex/envs/bimanual.py:488: DeprecationWarning: Conversion of an array with ndim > 0 to a scalar is deprecated, and will error in future. Ensure you extract a single element from your array before performing this operation. (Deprecated NumPy 1.25.)\n",
            "  self.manip_joint_range = np.arange(model.joint(\"manip_object/freejoint\").qposadr,\n",
            "/home/ta747375ki/myochallenge-neuroflex/envs/bimanual.py:488: DeprecationWarning: Conversion of an array with ndim > 0 to a scalar is deprecated, and will error in future. Ensure you extract a single element from your array before performing this operation. (Deprecated NumPy 1.25.)\n",
            "  self.manip_joint_range = np.arange(model.joint(\"manip_object/freejoint\").qposadr,\n",
            "/home/ta747375ki/myochallenge-neuroflex/envs/bimanual.py:488: DeprecationWarning: Conversion of an array with ndim > 0 to a scalar is deprecated, and will error in future. Ensure you extract a single element from your array before performing this operation. (Deprecated NumPy 1.25.)\n",
            "  self.manip_joint_range = np.arange(model.joint(\"manip_object/freejoint\").qposadr,\n",
            "/home/ta747375ki/myochallenge-neuroflex/envs/bimanual.py:491: DeprecationWarning: Conversion of an array with ndim > 0 to a scalar is deprecated, and will error in future. Ensure you extract a single element from your array before performing this operation. (Deprecated NumPy 1.25.)\n",
            "  self.manip_dof_range = np.arange(model.joint(\"manip_object/freejoint\").dofadr,\n",
            "/home/ta747375ki/myochallenge-neuroflex/envs/bimanual.py:491: DeprecationWarning: Conversion of an array with ndim > 0 to a scalar is deprecated, and will error in future. Ensure you extract a single element from your array before performing this operation. (Deprecated NumPy 1.25.)\n",
            "  self.manip_dof_range = np.arange(model.joint(\"manip_object/freejoint\").dofadr,\n",
            "/home/ta747375ki/myochallenge-neuroflex/envs/bimanual.py:491: DeprecationWarning: Conversion of an array with ndim > 0 to a scalar is deprecated, and will error in future. Ensure you extract a single element from your array before performing this operation. (Deprecated NumPy 1.25.)\n",
            "  self.manip_dof_range = np.arange(model.joint(\"manip_object/freejoint\").dofadr,\n",
            "/home/ta747375ki/myochallenge-neuroflex/envs/bimanual.py:176: DeprecationWarning: Conversion of an array with ndim > 0 to a scalar is deprecated, and will error in future. Ensure you extract a single element from your array before performing this operation. (Deprecated NumPy 1.25.)\n",
            "  self.obj_vert_addr = np.arange(self.sim.model.mesh(self.obj_mid).vertadr,\n",
            "/home/ta747375ki/myochallenge-neuroflex/envs/bimanual.py:176: DeprecationWarning: Conversion of an array with ndim > 0 to a scalar is deprecated, and will error in future. Ensure you extract a single element from your array before performing this operation. (Deprecated NumPy 1.25.)\n",
            "  self.obj_vert_addr = np.arange(self.sim.model.mesh(self.obj_mid).vertadr,\n",
            "/home/ta747375ki/myochallenge-neuroflex/envs/bimanual.py:176: DeprecationWarning: Conversion of an array with ndim > 0 to a scalar is deprecated, and will error in future. Ensure you extract a single element from your array before performing this operation. (Deprecated NumPy 1.25.)\n",
            "  self.obj_vert_addr = np.arange(self.sim.model.mesh(self.obj_mid).vertadr,\n",
            "/home/ta747375ki/myochallenge-neuroflex/envs/bimanual.py:178: DeprecationWarning: Conversion of an array with ndim > 0 to a scalar is deprecated, and will error in future. Ensure you extract a single element from your array before performing this operation. (Deprecated NumPy 1.25.)\n",
            "  q = self.sim.model.geom(self.obj_gid - 1).quat\n",
            "/home/ta747375ki/myochallenge-neuroflex/envs/bimanual.py:182: DeprecationWarning: Conversion of an array with ndim > 0 to a scalar is deprecated, and will error in future. Ensure you extract a single element from your array before performing this operation. (Deprecated NumPy 1.25.)\n",
            "  self.sim.model.geom(self.obj_gid - 1).quat = [1, 0, 0, 0]\n",
            "/home/ta747375ki/myochallenge-neuroflex/envs/bimanual.py:183: DeprecationWarning: Conversion of an array with ndim > 0 to a scalar is deprecated, and will error in future. Ensure you extract a single element from your array before performing this operation. (Deprecated NumPy 1.25.)\n",
            "  self.sim.model.mesh_vert[self.obj_vert_addr] += (self.sim.model.geom(self.obj_gid - 1).pos\n",
            "/home/ta747375ki/myochallenge-neuroflex/envs/bimanual.py:184: DeprecationWarning: Conversion of an array with ndim > 0 to a scalar is deprecated, and will error in future. Ensure you extract a single element from your array before performing this operation. (Deprecated NumPy 1.25.)\n",
            "  - self.sim.model.geom(self.obj_gid).pos)[None, :]\n",
            "/home/ta747375ki/myochallenge-neuroflex/envs/bimanual.py:186: DeprecationWarning: Conversion of an array with ndim > 0 to a scalar is deprecated, and will error in future. Ensure you extract a single element from your array before performing this operation. (Deprecated NumPy 1.25.)\n",
            "  self.sim.model.geom(self.obj_gid - 1).pos = self.sim.model.geom(self.obj_gid).pos\n",
            "/home/ta747375ki/myochallenge-neuroflex/envs/bimanual.py:186: DeprecationWarning: Conversion of an array with ndim > 0 to a scalar is deprecated, and will error in future. Ensure you extract a single element from your array before performing this operation. (Deprecated NumPy 1.25.)\n",
            "  self.sim.model.geom(self.obj_gid - 1).pos = self.sim.model.geom(self.obj_gid).pos\n",
            "/home/ta747375ki/myochallenge-neuroflex/venv/lib/python3.10/site-packages/myosuite/envs/myo/myochallenge/bimanual_v0.py:432: DeprecationWarning: Conversion of an array with ndim > 0 to a scalar is deprecated, and will error in future. Ensure you extract a single element from your array before performing this operation. (Deprecated NumPy 1.25.)\n",
            "  self.manip_joint_range = np.arange(model.joint(\"manip_object/freejoint\").qposadr,\n",
            "/home/ta747375ki/myochallenge-neuroflex/venv/lib/python3.10/site-packages/myosuite/envs/myo/myochallenge/bimanual_v0.py:432: DeprecationWarning: Conversion of an array with ndim > 0 to a scalar is deprecated, and will error in future. Ensure you extract a single element from your array before performing this operation. (Deprecated NumPy 1.25.)\n",
            "  self.manip_joint_range = np.arange(model.joint(\"manip_object/freejoint\").qposadr,\n",
            "/home/ta747375ki/myochallenge-neuroflex/venv/lib/python3.10/site-packages/myosuite/envs/myo/myochallenge/bimanual_v0.py:432: DeprecationWarning: Conversion of an array with ndim > 0 to a scalar is deprecated, and will error in future. Ensure you extract a single element from your array before performing this operation. (Deprecated NumPy 1.25.)\n",
            "  self.manip_joint_range = np.arange(model.joint(\"manip_object/freejoint\").qposadr,\n",
            "/home/ta747375ki/myochallenge-neuroflex/venv/lib/python3.10/site-packages/myosuite/envs/myo/myochallenge/bimanual_v0.py:435: DeprecationWarning: Conversion of an array with ndim > 0 to a scalar is deprecated, and will error in future. Ensure you extract a single element from your array before performing this operation. (Deprecated NumPy 1.25.)\n",
            "  self.manip_dof_range = np.arange(model.joint(\"manip_object/freejoint\").dofadr,\n",
            "/home/ta747375ki/myochallenge-neuroflex/venv/lib/python3.10/site-packages/myosuite/envs/myo/myochallenge/bimanual_v0.py:435: DeprecationWarning: Conversion of an array with ndim > 0 to a scalar is deprecated, and will error in future. Ensure you extract a single element from your array before performing this operation. (Deprecated NumPy 1.25.)\n",
            "  self.manip_dof_range = np.arange(model.joint(\"manip_object/freejoint\").dofadr,\n",
            "/home/ta747375ki/myochallenge-neuroflex/venv/lib/python3.10/site-packages/myosuite/envs/myo/myochallenge/bimanual_v0.py:435: DeprecationWarning: Conversion of an array with ndim > 0 to a scalar is deprecated, and will error in future. Ensure you extract a single element from your array before performing this operation. (Deprecated NumPy 1.25.)\n",
            "  self.manip_dof_range = np.arange(model.joint(\"manip_object/freejoint\").dofadr,\n"
          ]
        }
      ],
      "source": [
        "env_name = 'CustomBimanualEnv-v0'\n",
        "env = gym.make(env_name)"
      ]
    },
    {
      "cell_type": "code",
      "execution_count": 8,
      "metadata": {
        "colab": {
          "base_uri": "https://localhost:8080/"
        },
        "id": "OE0zSmINWElF",
        "outputId": "f5c6b3e1-3fbd-4323-b7ff-89208496627f"
      },
      "outputs": [],
      "source": [
        "checkpoint_callback = CheckpointCallback(save_freq=1000, save_path='./logs/', name_prefix='ppo_model')\n",
        "# model = PPO.load('baseline', env)\n",
        "# model = PPO.load(\"./logs/ppo_model_6000_steps.zip\", env)\n",
        "model = PPO.load(\"./agent/model.zip\", env, device='cpu')  # Load model on CPU\n",
        "env.reset()\n",
        "env.seed(51) #setting a seed for the env\n",
        "tb_log_name = \"ppo_training\"\n",
        "# model.learn(total_timesteps=5000, callback=checkpoint_callback, tb_log_name=tb_log_name)"
      ]
    },
    {
      "cell_type": "code",
      "execution_count": 10,
      "metadata": {
        "colab": {
          "base_uri": "https://localhost:8080/",
          "height": 364,
          "referenced_widgets": [
            "1042a57f2b004f7b8e64c9a3e35333dc",
            "0c5a380994ea4718877b243bc71189d5",
            "73e5c659dfe446e999420ffd9a19357d",
            "bf39a5f2d98a4dda9a10e768786e0391",
            "9d19aa50483f4023a41b0f28847e2b31",
            "7dbc44aeeabc49879d88b7f39361896f",
            "d35449dee75144fd821a6c2f5055fffa",
            "3f946209e87e41e3a8ff374cdc222c75",
            "f2d72b9aafe845ad874fee104ad1be35",
            "8579dea2e7ad443f9ffccbf18d04fbc8",
            "fde30e6d84984ee6a04a814769fc075e"
          ]
        },
        "id": "Iy4aj3jTWM2S",
        "outputId": "3d96aef3-0e39-4019-a3ee-b9f98a6819b8"
      },
      "outputs": [
        {
          "name": "stderr",
          "output_type": "stream",
          "text": [
            "/home/ta747375ki/myochallenge-neuroflex/venv/lib/python3.10/site-packages/gymnasium/core.py:311: UserWarning: \u001b[33mWARN: env.obsdict2obsvec to get variables from other wrappers is deprecated and will be removed in v1.0, to get this variable you can do `env.unwrapped.obsdict2obsvec` for environment variables or `env.get_wrapper_attr('obsdict2obsvec')` that will search the reminding wrappers.\u001b[0m\n",
            "  logger.warn(\n",
            "/home/ta747375ki/myochallenge-neuroflex/venv/lib/python3.10/site-packages/gymnasium/core.py:311: UserWarning: \u001b[33mWARN: env.obs_dict to get variables from other wrappers is deprecated and will be removed in v1.0, to get this variable you can do `env.unwrapped.obs_dict` for environment variables or `env.get_wrapper_attr('obs_dict')` that will search the reminding wrappers.\u001b[0m\n",
            "  logger.warn(\n",
            "/home/ta747375ki/myochallenge-neuroflex/venv/lib/python3.10/site-packages/gymnasium/core.py:311: UserWarning: \u001b[33mWARN: env.obs_keys to get variables from other wrappers is deprecated and will be removed in v1.0, to get this variable you can do `env.unwrapped.obs_keys` for environment variables or `env.get_wrapper_attr('obs_keys')` that will search the reminding wrappers.\u001b[0m\n",
            "  logger.warn(\n",
            "/home/ta747375ki/myochallenge-neuroflex/venv/lib/python3.10/site-packages/gymnasium/core.py:311: UserWarning: \u001b[33mWARN: env.sim to get variables from other wrappers is deprecated and will be removed in v1.0, to get this variable you can do `env.unwrapped.sim` for environment variables or `env.get_wrapper_attr('sim')` that will search the reminding wrappers.\u001b[0m\n",
            "  logger.warn(\n"
          ]
        }
      ],
      "source": [
        "# Ignore specific warning\n",
        "import warnings\n",
        "from datetime import datetime\n",
        "warnings.filterwarnings(\"ignore\", message=\".*tostring.*is deprecated.*\")\n",
        "\n",
        "movie = True #we want to save a video\n",
        "frames = []\n",
        "view = 'front'\n",
        "for _ in range(3):\n",
        "    ep_rewards = []\n",
        "    done = False\n",
        "    obs = env.reset()\n",
        "    for step in range(400):\n",
        "        # if done: break\n",
        "        obs = env.obsdict2obsvec(env.obs_dict, env.obs_keys)[1]\n",
        "        # print(f\"obs shape: {len(obs)}\")\n",
        "        # print(f\"obs keys: {env.obs_keys}\")\n",
        "        action, _ = model.predict(obs, deterministic=True)\n",
        "        # hard-coding the myoHand to release object\n",
        "        action[30] = 1\n",
        "        if step > 130:\n",
        "    #   if obs.\n",
        "            action[32:40] = 0\n",
        "            action[40:49] = 1\n",
        "\n",
        "        #hard coding the MPL to the desire position, since we know the actuation of the MPL is the last 17 index of action\n",
        "        action[-17:] = np.array([-0.65001469 , 1.     ,    -0.23187843 , 0.59583695 , 0.92356688, -0.16,\n",
        "                                -0.28 ,      -0.88   ,     0.25 ,      -0.846   ,   -0.24981132 ,-0.91823529,\n",
        "                                -0.945  ,    -0.925   ,   -0.929   ,   -0.49    ,   -0.18      ])\n",
        "        if step > 250:\n",
        "            action[-17:] = np.array([-0.4199236 ,  1.      ,   -0.9840558 ,  0.35299219,  0.92356688,  0.02095238,\n",
        "                                        -0.28    ,   -0.88  ,      0.25      , -0.846     , -0.24981132, -0.91823529,\n",
        "                                        -0.945   ,   -0.925   ,   -0.929    ,  -0.49     ,  -0.918     ])\n",
        "        if step > 350:\n",
        "            action[-17:] = np.array([-0.4199236 ,  1.     ,    -0.9840558,   0.35299219 , 0.3910828 ,  0.02095238,\n",
        "                                        -0.28    ,   -0.88     ,   0.25   ,    -0.846     , -0.24981132 ,-0.91823529,\n",
        "                                        -0.945    ,  -0.925    ,  -0.929    ,  -0.49  ,     -0.918     ])\n",
        "\n",
        "        obs, reward, done, info, info_2 = env.step(action)\n",
        "        if movie:\n",
        "            geom_1_indices = np.where(env.sim.model.geom_group == 1)\n",
        "            env.sim.model.geom_rgba[geom_1_indices, 3] = 0\n",
        "            frame = env.sim.renderer.render_offscreen(width= 400, height=400,camera_id=1)\n",
        "            frames.append(frame)\n",
        "\n",
        "env.close()\n",
        "\n",
        "os.makedirs('videos', exist_ok=True)\n",
        "# make a local copy\n",
        "current_date = datetime.now().strftime(\"%Y-%m-%d_%H-%M-%S\")\n",
        "skvideo.io.vwrite(f'videos/test_policy_{current_date}.mp4', np.asarray(frames), inputdict = {'-r': '100'}, outputdict={\"-pix_fmt\": \"yuv420p\"})\n",
        "show_video(f'videos/test_policy_{current_date}.mp4')"
      ]
    },
    {
      "cell_type": "markdown",
      "metadata": {
        "id": "tkyMR0KEY2VK"
      },
      "source": [
        "You will first notice that only in some occasion the myoHand is grasping the object. This is because the baseline is trained upon simple no variation conditions. To fully replicate the baseline behavior, initiate the env with no variations:\n",
        "\n",
        "\n",
        "```\n",
        "kwargs={\n",
        "            'model_path': curr_dir + '/../assets/arm/myoarm_bionic_bimanual.xml',\n",
        "            'normalize_act': True,\n",
        "            'frame_skip': 5,\n",
        "            'obj_scale_change': None\n",
        "            'obj_mass_change': None\n",
        "            'obj_friction_change': None\n",
        "        }\n",
        "```\n",
        "\n",
        "!Note: The evaluation env will still have variations"
      ]
    },
    {
      "cell_type": "markdown",
      "metadata": {
        "id": "qSGuhMj_ZUob"
      },
      "source": [
        "## With all of those set, you can fully replicate the new baseline solution and build on top of it. Happy training!"
      ]
    }
  ],
  "metadata": {
    "colab": {
      "provenance": []
    },
    "kernelspec": {
      "display_name": "Python 3",
      "name": "python3"
    },
    "language_info": {
      "codemirror_mode": {
        "name": "ipython",
        "version": 3
      },
      "file_extension": ".py",
      "mimetype": "text/x-python",
      "name": "python",
      "nbconvert_exporter": "python",
      "pygments_lexer": "ipython3",
      "version": "3.10.12"
    },
    "widgets": {
      "application/vnd.jupyter.widget-state+json": {
        "0c5a380994ea4718877b243bc71189d5": {
          "model_module": "@jupyter-widgets/controls",
          "model_module_version": "1.5.0",
          "model_name": "HTMLModel",
          "state": {
            "_dom_classes": [],
            "_model_module": "@jupyter-widgets/controls",
            "_model_module_version": "1.5.0",
            "_model_name": "HTMLModel",
            "_view_count": null,
            "_view_module": "@jupyter-widgets/controls",
            "_view_module_version": "1.5.0",
            "_view_name": "HTMLView",
            "description": "",
            "description_tooltip": null,
            "layout": "IPY_MODEL_7dbc44aeeabc49879d88b7f39361896f",
            "placeholder": "​",
            "style": "IPY_MODEL_d35449dee75144fd821a6c2f5055fffa",
            "value": " 50%"
          }
        },
        "1042a57f2b004f7b8e64c9a3e35333dc": {
          "model_module": "@jupyter-widgets/controls",
          "model_module_version": "1.5.0",
          "model_name": "HBoxModel",
          "state": {
            "_dom_classes": [],
            "_model_module": "@jupyter-widgets/controls",
            "_model_module_version": "1.5.0",
            "_model_name": "HBoxModel",
            "_view_count": null,
            "_view_module": "@jupyter-widgets/controls",
            "_view_module_version": "1.5.0",
            "_view_name": "HBoxView",
            "box_style": "",
            "children": [
              "IPY_MODEL_0c5a380994ea4718877b243bc71189d5",
              "IPY_MODEL_73e5c659dfe446e999420ffd9a19357d",
              "IPY_MODEL_bf39a5f2d98a4dda9a10e768786e0391"
            ],
            "layout": "IPY_MODEL_9d19aa50483f4023a41b0f28847e2b31"
          }
        },
        "3f946209e87e41e3a8ff374cdc222c75": {
          "model_module": "@jupyter-widgets/base",
          "model_module_version": "1.2.0",
          "model_name": "LayoutModel",
          "state": {
            "_model_module": "@jupyter-widgets/base",
            "_model_module_version": "1.2.0",
            "_model_name": "LayoutModel",
            "_view_count": null,
            "_view_module": "@jupyter-widgets/base",
            "_view_module_version": "1.2.0",
            "_view_name": "LayoutView",
            "align_content": null,
            "align_items": null,
            "align_self": null,
            "border": null,
            "bottom": null,
            "display": null,
            "flex": null,
            "flex_flow": null,
            "grid_area": null,
            "grid_auto_columns": null,
            "grid_auto_flow": null,
            "grid_auto_rows": null,
            "grid_column": null,
            "grid_gap": null,
            "grid_row": null,
            "grid_template_areas": null,
            "grid_template_columns": null,
            "grid_template_rows": null,
            "height": null,
            "justify_content": null,
            "justify_items": null,
            "left": null,
            "margin": null,
            "max_height": null,
            "max_width": null,
            "min_height": null,
            "min_width": null,
            "object_fit": null,
            "object_position": null,
            "order": null,
            "overflow": null,
            "overflow_x": null,
            "overflow_y": null,
            "padding": null,
            "right": null,
            "top": null,
            "visibility": null,
            "width": null
          }
        },
        "73e5c659dfe446e999420ffd9a19357d": {
          "model_module": "@jupyter-widgets/controls",
          "model_module_version": "1.5.0",
          "model_name": "FloatProgressModel",
          "state": {
            "_dom_classes": [],
            "_model_module": "@jupyter-widgets/controls",
            "_model_module_version": "1.5.0",
            "_model_name": "FloatProgressModel",
            "_view_count": null,
            "_view_module": "@jupyter-widgets/controls",
            "_view_module_version": "1.5.0",
            "_view_name": "ProgressView",
            "bar_style": "",
            "description": "",
            "description_tooltip": null,
            "layout": "IPY_MODEL_3f946209e87e41e3a8ff374cdc222c75",
            "max": 2,
            "min": 0,
            "orientation": "horizontal",
            "style": "IPY_MODEL_f2d72b9aafe845ad874fee104ad1be35",
            "value": 1
          }
        },
        "7dbc44aeeabc49879d88b7f39361896f": {
          "model_module": "@jupyter-widgets/base",
          "model_module_version": "1.2.0",
          "model_name": "LayoutModel",
          "state": {
            "_model_module": "@jupyter-widgets/base",
            "_model_module_version": "1.2.0",
            "_model_name": "LayoutModel",
            "_view_count": null,
            "_view_module": "@jupyter-widgets/base",
            "_view_module_version": "1.2.0",
            "_view_name": "LayoutView",
            "align_content": null,
            "align_items": null,
            "align_self": null,
            "border": null,
            "bottom": null,
            "display": null,
            "flex": null,
            "flex_flow": null,
            "grid_area": null,
            "grid_auto_columns": null,
            "grid_auto_flow": null,
            "grid_auto_rows": null,
            "grid_column": null,
            "grid_gap": null,
            "grid_row": null,
            "grid_template_areas": null,
            "grid_template_columns": null,
            "grid_template_rows": null,
            "height": null,
            "justify_content": null,
            "justify_items": null,
            "left": null,
            "margin": null,
            "max_height": null,
            "max_width": null,
            "min_height": null,
            "min_width": null,
            "object_fit": null,
            "object_position": null,
            "order": null,
            "overflow": null,
            "overflow_x": null,
            "overflow_y": null,
            "padding": null,
            "right": null,
            "top": null,
            "visibility": null,
            "width": null
          }
        },
        "8579dea2e7ad443f9ffccbf18d04fbc8": {
          "model_module": "@jupyter-widgets/base",
          "model_module_version": "1.2.0",
          "model_name": "LayoutModel",
          "state": {
            "_model_module": "@jupyter-widgets/base",
            "_model_module_version": "1.2.0",
            "_model_name": "LayoutModel",
            "_view_count": null,
            "_view_module": "@jupyter-widgets/base",
            "_view_module_version": "1.2.0",
            "_view_name": "LayoutView",
            "align_content": null,
            "align_items": null,
            "align_self": null,
            "border": null,
            "bottom": null,
            "display": null,
            "flex": null,
            "flex_flow": null,
            "grid_area": null,
            "grid_auto_columns": null,
            "grid_auto_flow": null,
            "grid_auto_rows": null,
            "grid_column": null,
            "grid_gap": null,
            "grid_row": null,
            "grid_template_areas": null,
            "grid_template_columns": null,
            "grid_template_rows": null,
            "height": null,
            "justify_content": null,
            "justify_items": null,
            "left": null,
            "margin": null,
            "max_height": null,
            "max_width": null,
            "min_height": null,
            "min_width": null,
            "object_fit": null,
            "object_position": null,
            "order": null,
            "overflow": null,
            "overflow_x": null,
            "overflow_y": null,
            "padding": null,
            "right": null,
            "top": null,
            "visibility": null,
            "width": null
          }
        },
        "9d19aa50483f4023a41b0f28847e2b31": {
          "model_module": "@jupyter-widgets/base",
          "model_module_version": "1.2.0",
          "model_name": "LayoutModel",
          "state": {
            "_model_module": "@jupyter-widgets/base",
            "_model_module_version": "1.2.0",
            "_model_name": "LayoutModel",
            "_view_count": null,
            "_view_module": "@jupyter-widgets/base",
            "_view_module_version": "1.2.0",
            "_view_name": "LayoutView",
            "align_content": null,
            "align_items": null,
            "align_self": null,
            "border": null,
            "bottom": null,
            "display": null,
            "flex": null,
            "flex_flow": null,
            "grid_area": null,
            "grid_auto_columns": null,
            "grid_auto_flow": null,
            "grid_auto_rows": null,
            "grid_column": null,
            "grid_gap": null,
            "grid_row": null,
            "grid_template_areas": null,
            "grid_template_columns": null,
            "grid_template_rows": null,
            "height": null,
            "justify_content": null,
            "justify_items": null,
            "left": null,
            "margin": null,
            "max_height": null,
            "max_width": null,
            "min_height": null,
            "min_width": null,
            "object_fit": null,
            "object_position": null,
            "order": null,
            "overflow": null,
            "overflow_x": null,
            "overflow_y": null,
            "padding": null,
            "right": null,
            "top": null,
            "visibility": null,
            "width": null
          }
        },
        "bf39a5f2d98a4dda9a10e768786e0391": {
          "model_module": "@jupyter-widgets/controls",
          "model_module_version": "1.5.0",
          "model_name": "HTMLModel",
          "state": {
            "_dom_classes": [],
            "_model_module": "@jupyter-widgets/controls",
            "_model_module_version": "1.5.0",
            "_model_name": "HTMLModel",
            "_view_count": null,
            "_view_module": "@jupyter-widgets/controls",
            "_view_module_version": "1.5.0",
            "_view_name": "HTMLView",
            "description": "",
            "description_tooltip": null,
            "layout": "IPY_MODEL_8579dea2e7ad443f9ffccbf18d04fbc8",
            "placeholder": "​",
            "style": "IPY_MODEL_fde30e6d84984ee6a04a814769fc075e",
            "value": " 1/2 [01:55&lt;01:55, 115.26s/it]"
          }
        },
        "d35449dee75144fd821a6c2f5055fffa": {
          "model_module": "@jupyter-widgets/controls",
          "model_module_version": "1.5.0",
          "model_name": "DescriptionStyleModel",
          "state": {
            "_model_module": "@jupyter-widgets/controls",
            "_model_module_version": "1.5.0",
            "_model_name": "DescriptionStyleModel",
            "_view_count": null,
            "_view_module": "@jupyter-widgets/base",
            "_view_module_version": "1.2.0",
            "_view_name": "StyleView",
            "description_width": ""
          }
        },
        "f2d72b9aafe845ad874fee104ad1be35": {
          "model_module": "@jupyter-widgets/controls",
          "model_module_version": "1.5.0",
          "model_name": "ProgressStyleModel",
          "state": {
            "_model_module": "@jupyter-widgets/controls",
            "_model_module_version": "1.5.0",
            "_model_name": "ProgressStyleModel",
            "_view_count": null,
            "_view_module": "@jupyter-widgets/base",
            "_view_module_version": "1.2.0",
            "_view_name": "StyleView",
            "bar_color": null,
            "description_width": ""
          }
        },
        "fde30e6d84984ee6a04a814769fc075e": {
          "model_module": "@jupyter-widgets/controls",
          "model_module_version": "1.5.0",
          "model_name": "DescriptionStyleModel",
          "state": {
            "_model_module": "@jupyter-widgets/controls",
            "_model_module_version": "1.5.0",
            "_model_name": "DescriptionStyleModel",
            "_view_count": null,
            "_view_module": "@jupyter-widgets/base",
            "_view_module_version": "1.2.0",
            "_view_name": "StyleView",
            "description_width": ""
          }
        }
      }
    }
  },
  "nbformat": 4,
  "nbformat_minor": 0
}
