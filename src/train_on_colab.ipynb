{
  "cells": [
    {
      "cell_type": "markdown",
      "metadata": {
        "colab_type": "text",
        "id": "view-in-github"
      },
      "source": [
        "<a href=\"https://colab.research.google.com/github/ttktjmt/myochallenge-lattice/blob/main/src/train_on_colab.ipynb\" target=\"_parent\"><img src=\"https://colab.research.google.com/assets/colab-badge.svg\" alt=\"Open In Colab\"/></a>"
      ]
    },
    {
      "cell_type": "markdown",
      "metadata": {
        "id": "l9Ere5knysjo"
      },
      "source": [
        "# Install Dependencies"
      ]
    },
    {
      "cell_type": "code",
      "execution_count": 2,
      "metadata": {
        "colab": {
          "base_uri": "https://localhost:8080/"
        },
        "id": "8Z7QyDDoysjr",
        "outputId": "cfdeb79b-960d-4e85-af72-ef5afa41dbf0"
      },
      "outputs": [
        {
          "name": "stdout",
          "output_type": "stream",
          "text": [
            "Env: <ipykernel.zmqshell.ZMQInteractiveShell object at 0x7f5ce3b5fbe0>\n",
            "Note: you may need to restart the kernel to use updated packages.\n"
          ]
        }
      ],
      "source": [
        "import os\n",
        "import logging\n",
        "logging.basicConfig(level=logging.INFO)\n",
        "\n",
        "print(f\"Env: {str(get_ipython())}\")\n",
        "\n",
        "if 'google.colab' in str(get_ipython()):\n",
        "    logging.info(\"Running on Google Colab\")\n",
        "    repo_dir = 'myochallenge-lattice'\n",
        "\n",
        "    %cd /content\n",
        "    if not os.path.exists(repo_dir):\n",
        "        logging.info(\"Cloning the repository...\")\n",
        "        !git clone https://github.com/ttktjmt/myochallenge-lattice --quiet\n",
        "    else:\n",
        "        logging.info(f\"Repository '{repo_dir}' already exists.\")\n",
        "\n",
        "    %cd myochallenge-lattice/src\n",
        "\n",
        "%pip install -r ../docker/requirements.txt --quiet"
      ]
    },
    {
      "cell_type": "markdown",
      "metadata": {
        "id": "lMKXIeXuysjt"
      },
      "source": [
        "# Train"
      ]
    },
    {
      "cell_type": "code",
      "execution_count": 5,
      "metadata": {
        "colab": {
          "base_uri": "https://localhost:8080/"
        },
        "id": "FTEVS9b8ysju",
        "outputId": "8c6af257-6b6b-4024-a0b9-6e5082ece109"
      },
      "outputs": [
        {
          "name": "stdout",
          "output_type": "stream",
          "text": [
            "pygame 2.6.1 (SDL 2.28.4, Python 3.10.12)\n",
            "Hello from the pygame community. https://www.pygame.org/contribute.html\n",
            "MyoSuite:> Registering Myo Envs\n",
            "Checkpoints list:  []\n",
            "WARNING: No checkpoints at the given path /home/ta747375ki/myochallenge-lattice/output/training_mani/ongoing/_seed_0_max_steps_100_reg_0.001__solved_0_pos_dist_0_rot_dist_0_reach_dist_0_lift_0_max_app_0_reach_z_0, let's see if there is a model at the cli path\n",
            "MyoSuite:> Registering Myo Envs\n",
            "Checkpoints list:  []\n",
            "WARNING: No checkpoints at the given path /home/ta747375ki/myochallenge-lattice/output/training_mani/ongoing/_seed_0_max_steps_100_reg_0.001__solved_0_pos_dist_0_rot_dist_0_reach_dist_0_lift_0_max_app_0_reach_z_0, let's see if there is a model at the cli path\n",
            "\u001b[36m    MyoSuite: A contact-rich simulation suite for musculoskeletal motor control\n",
            "        Vittorio Caggiano, Huawei Wang, Guillaume Durandau, Massimo Sartori, Vikash Kumar\n",
            "        L4DC-2019 | https://sites.google.com/view/myosuite\n",
            "    \u001b[0m\n",
            "WARNING:absl:mju_openResource: unknown file '/home/ta747375ki/myochallenge-lattice/data/myosuite/assets/arm/../../../../simhive/YCB_sim/includes/defaults_ycb.xml'\n",
            "Process ForkServerProcess-1:\n",
            "Traceback (most recent call last):\n",
            "  File \"/usr/lib/python3.10/multiprocessing/process.py\", line 314, in _bootstrap\n",
            "    self.run()\n",
            "  File \"/usr/lib/python3.10/multiprocessing/process.py\", line 108, in run\n",
            "    self._target(*self._args, **self._kwargs)\n",
            "  File \"/home/ta747375ki/myochallenge-lattice/venv/lib/python3.10/site-packages/stable_baselines3/common/vec_env/subproc_vec_env.py\", line 29, in _worker\n",
            "    env = _patch_env(env_fn_wrapper.var())\n",
            "  File \"/home/ta747375ki/myochallenge-lattice/src/envs/helpers.py\", line 92, in _thunk\n",
            "    if max_episode_steps is not None:\n",
            "  File \"/home/ta747375ki/myochallenge-lattice/src/envs/environment_factory.py\", line 89, in create\n",
            "    return gym.make(\"myoChallengeBimanual-v0\", **kwargs)\n",
            "  File \"/home/ta747375ki/myochallenge-lattice/venv/lib/python3.10/site-packages/gym/envs/registration.py\", line 156, in make\n",
            "    return registry.make(id, **kwargs)\n",
            "  File \"/home/ta747375ki/myochallenge-lattice/venv/lib/python3.10/site-packages/gym/envs/registration.py\", line 101, in make\n",
            "    env = spec.make(**kwargs)\n",
            "  File \"/home/ta747375ki/myochallenge-lattice/venv/lib/python3.10/site-packages/gym/envs/registration.py\", line 73, in make\n",
            "    env = cls(**_kwargs)\n",
            "  File \"/home/ta747375ki/myochallenge-lattice/src/envs/bimanual_v0.py\", line 44, in __init__\n",
            "    super().__init__(model_path=model_path, obsd_model_path=obsd_model_path, seed=seed, env_credits=self.MYO_CREDIT)\n",
            "  File \"/home/ta747375ki/myochallenge-lattice/venv/lib/python3.10/site-packages/myosuite/envs/env_base.py\", line 57, in __init__\n",
            "    self.sim = SimScene.get_sim(model_path)\n",
            "  File \"/home/ta747375ki/myochallenge-lattice/venv/lib/python3.10/site-packages/myosuite/physics/sim_scene.py\", line 69, in get_sim\n",
            "    return SimScene.create(model_handle=model_handle, backend=SimBackend.MUJOCO)\n",
            "  File \"/home/ta747375ki/myochallenge-lattice/venv/lib/python3.10/site-packages/myosuite/physics/sim_scene.py\", line 57, in create\n",
            "    return mj_sim_scene.DMSimScene(*args, **kwargs)\n",
            "  File \"/home/ta747375ki/myochallenge-lattice/venv/lib/python3.10/site-packages/myosuite/physics/sim_scene.py\", line 84, in __init__\n",
            "    self.sim = self._load_simulation(model_handle)\n",
            "  File \"/home/ta747375ki/myochallenge-lattice/venv/lib/python3.10/site-packages/myosuite/physics/mj_sim_scene.py\", line 39, in _load_simulation\n",
            "    sim = dm_mujoco.Physics.from_xml_path(model_handle)\n",
            "  File \"/home/ta747375ki/myochallenge-lattice/venv/lib/python3.10/site-packages/dm_control/mujoco/engine.py\", line 461, in from_xml_path\n",
            "    model = wrapper.MjModel.from_xml_path(file_path)\n",
            "  File \"/home/ta747375ki/myochallenge-lattice/venv/lib/python3.10/site-packages/dm_control/mujoco/wrapper/core.py\", line 305, in from_xml_path\n",
            "    model_ptr = _get_model_ptr_from_xml(xml_path=xml_path)\n",
            "  File \"/home/ta747375ki/myochallenge-lattice/venv/lib/python3.10/site-packages/dm_control/mujoco/wrapper/core.py\", line 180, in _get_model_ptr_from_xml\n",
            "    ptr = mujoco.MjModel.from_xml_path(xml_path, assets or {})\n",
            "ValueError: XML Error: Could not open file '/home/ta747375ki/myochallenge-lattice/data/myosuite/assets/arm/../../../../simhive/YCB_sim/includes/defaults_ycb.xml'\n",
            "Element 'include', line 11\n",
            "\n",
            "Traceback (most recent call last):\n",
            "  File \"/home/ta747375ki/myochallenge-lattice/src/./main_challenge_bimanual.py\", line 237, in <module>\n",
            "    envs = create_vec_env(env_config, \n",
            "  File \"/home/ta747375ki/myochallenge-lattice/src/envs/helpers.py\", line 120, in create_vec_env\n",
            "    envs = make_parallel_envs(\n",
            "  File \"/home/ta747375ki/myochallenge-lattice/src/envs/helpers.py\", line 106, in make_parallel_envs\n",
            "    return SubprocVecEnv([make_env(i + seed) for i in range(num_env)])\n",
            "  File \"/home/ta747375ki/myochallenge-lattice/venv/lib/python3.10/site-packages/stable_baselines3/common/vec_env/subproc_vec_env.py\", line 119, in __init__\n",
            "    observation_space, action_space = self.remotes[0].recv()\n",
            "  File \"/usr/lib/python3.10/multiprocessing/connection.py\", line 250, in recv\n",
            "    buf = self._recv_bytes()\n",
            "  File \"/usr/lib/python3.10/multiprocessing/connection.py\", line 414, in _recv_bytes\n",
            "    buf = self._recv(4)\n",
            "  File \"/usr/lib/python3.10/multiprocessing/connection.py\", line 379, in _recv\n",
            "    chunk = read(handle, remaining)\n",
            "ConnectionResetError: [Errno 104] Connection reset by peer\n"
          ]
        }
      ],
      "source": [
        "!python ./main_challenge_bimanual.py \\\n",
        "    --num_envs 1 \\\n",
        "    --num_steps 100000 \\\n",
        "    --save_every 50000 \\\n",
        "    --checkpoint_num 4 \\\n",
        "    --batch_size 64"
      ]
    }
  ],
  "metadata": {
    "colab": {
      "include_colab_link": true,
      "provenance": []
    },
    "kernelspec": {
      "display_name": "venv",
      "language": "python",
      "name": "python3"
    },
    "language_info": {
      "codemirror_mode": {
        "name": "ipython",
        "version": 3
      },
      "file_extension": ".py",
      "mimetype": "text/x-python",
      "name": "python",
      "nbconvert_exporter": "python",
      "pygments_lexer": "ipython3",
      "version": "3.10.12"
    }
  },
  "nbformat": 4,
  "nbformat_minor": 0
}
