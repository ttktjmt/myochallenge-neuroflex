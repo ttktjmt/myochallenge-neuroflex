{
  "cells": [
    {
      "cell_type": "markdown",
      "metadata": {
        "id": "qN_khR3UQ8g1"
      },
      "source": [
        "# 2024 NeurIPS - MyoChallenge\n",
        "\n",
        "## <center> Welcome to the [**2024 NeurIPS - MyoChallenge:  Physiological Dexterity and Agility in Enhanced Humans**](https://sites.google.com/view/myosuite/myochallenge/myochallenge-2024) </center>\n",
        "\n",
        "\n",
        "\n",
        "In this tutorial, we will show you how to load the latest MyoSuite baseline.\n",
        "\n",
        "> Authors: Cheryl Wang (huiyi.wang@mail.mcgill.ca)\n",
        "\n",
        "Note:\n",
        "\n",
        "\n",
        "1.   The baseline is trained with PPO - stablebaseline3, you can only load it when using this library.\n",
        "2.   This baseline method uses a hard-coded method for prosthesis (MPL), and a curriculum based training for the myoArm.\n",
        "\n",
        "\n",
        "\n"
      ]
    },
    {
      "cell_type": "code",
      "execution_count": 1,
      "metadata": {
        "colab": {
          "base_uri": "https://localhost:8080/",
          "height": 376
        },
        "id": "5BHEU9BkS57Z",
        "outputId": "c741fe5b-795e-4497-9e2a-f2d5c6f4d1b8"
      },
      "outputs": [
        {
          "data": {
            "image/jpeg": "[encoded data removed]",
            "text/html": [
              "\n",
              "        <iframe\n",
              "            width=\"400\"\n",
              "            height=\"300\"\n",
              "            src=\"https://www.youtube.com/embed/332TcmMUABA\"\n",
              "            frameborder=\"0\"\n",
              "            allowfullscreen\n",
              "            \n",
              "        ></iframe>\n",
              "        "
            ],
            "text/plain": [
              "<IPython.lib.display.YouTubeVideo at 0x7ffb8dec8eb0>"
            ]
          },
          "execution_count": 1,
          "metadata": {},
          "output_type": "execute_result"
        }
      ],
      "source": [
        "from IPython.display import YouTubeVideo\n",
        "YouTubeVideo('332TcmMUABA')"
      ]
    },
    {
      "cell_type": "markdown",
      "metadata": {
        "id": "HD5YE3jbQ3YO"
      },
      "source": [
        "## 1. Setting the environment\n"
      ]
    },
    {
      "cell_type": "code",
      "execution_count": 2,
      "metadata": {
        "colab": {
          "base_uri": "https://localhost:8080/"
        },
        "id": "FJdm6gfuQqYS",
        "outputId": "e36b9ed4-ce44-423a-8d33-436bb8462716"
      },
      "outputs": [
        {
          "name": "stdout",
          "output_type": "stream",
          "text": [
            "Requirement already satisfied: myosuite==2.8.3 in ./venv/lib/python3.10/site-packages (2.8.3)\n",
            "Requirement already satisfied: sk-video in ./venv/lib/python3.10/site-packages (from myosuite==2.8.3) (1.1.10)\n",
            "Requirement already satisfied: gymnasium==0.29.1 in ./venv/lib/python3.10/site-packages (from myosuite==2.8.3) (0.29.1)\n",
            "Requirement already satisfied: h5py in ./venv/lib/python3.10/site-packages (from myosuite==2.8.3) (3.12.1)\n",
            "Requirement already satisfied: mujoco==3.1.2 in ./venv/lib/python3.10/site-packages (from myosuite==2.8.3) (3.1.2)\n",
            "Requirement already satisfied: dm-control==1.0.16 in ./venv/lib/python3.10/site-packages (from myosuite==2.8.3) (1.0.16)\n",
            "Requirement already satisfied: gitpython in ./venv/lib/python3.10/site-packages (from myosuite==2.8.3) (3.1.43)\n",
            "Requirement already satisfied: termcolor in ./venv/lib/python3.10/site-packages (from myosuite==2.8.3) (2.5.0)\n",
            "Requirement already satisfied: click in ./venv/lib/python3.10/site-packages (from myosuite==2.8.3) (8.1.7)\n",
            "Requirement already satisfied: flatten-dict in ./venv/lib/python3.10/site-packages (from myosuite==2.8.3) (0.4.2)\n",
            "Requirement already satisfied: packaging in ./venv/lib/python3.10/site-packages (from myosuite==2.8.3) (24.2)\n",
            "Requirement already satisfied: Pillow in ./venv/lib/python3.10/site-packages (from myosuite==2.8.3) (11.0.0)\n",
            "Requirement already satisfied: pink-noise-rl in ./venv/lib/python3.10/site-packages (from myosuite==2.8.3) (2.0.1)\n",
            "Requirement already satisfied: numpy in ./venv/lib/python3.10/site-packages (from myosuite==2.8.3) (2.1.3)\n",
            "Requirement already satisfied: dm-tree!=0.1.2 in ./venv/lib/python3.10/site-packages (from dm-control==1.0.16->myosuite==2.8.3) (0.1.8)\n",
            "Requirement already satisfied: absl-py>=0.7.0 in ./venv/lib/python3.10/site-packages (from dm-control==1.0.16->myosuite==2.8.3) (2.1.0)\n",
            "Requirement already satisfied: protobuf>=3.19.4 in ./venv/lib/python3.10/site-packages (from dm-control==1.0.16->myosuite==2.8.3) (5.28.3)\n",
            "Requirement already satisfied: scipy in ./venv/lib/python3.10/site-packages (from dm-control==1.0.16->myosuite==2.8.3) (1.14.1)\n",
            "Requirement already satisfied: tqdm in ./venv/lib/python3.10/site-packages (from dm-control==1.0.16->myosuite==2.8.3) (4.67.0)\n",
            "Requirement already satisfied: requests in ./venv/lib/python3.10/site-packages (from dm-control==1.0.16->myosuite==2.8.3) (2.32.3)\n",
            "Requirement already satisfied: pyparsing>=3.0.0 in ./venv/lib/python3.10/site-packages (from dm-control==1.0.16->myosuite==2.8.3) (3.2.0)\n",
            "Requirement already satisfied: glfw in ./venv/lib/python3.10/site-packages (from dm-control==1.0.16->myosuite==2.8.3) (2.7.0)\n",
            "Requirement already satisfied: setuptools!=50.0.0 in ./venv/lib/python3.10/site-packages (from dm-control==1.0.16->myosuite==2.8.3) (59.6.0)\n",
            "Requirement already satisfied: dm-env in ./venv/lib/python3.10/site-packages (from dm-control==1.0.16->myosuite==2.8.3) (1.6)\n",
            "Requirement already satisfied: lxml in ./venv/lib/python3.10/site-packages (from dm-control==1.0.16->myosuite==2.8.3) (5.3.0)\n",
            "Requirement already satisfied: labmaze in ./venv/lib/python3.10/site-packages (from dm-control==1.0.16->myosuite==2.8.3) (1.0.6)\n",
            "Requirement already satisfied: pyopengl>=3.1.4 in ./venv/lib/python3.10/site-packages (from dm-control==1.0.16->myosuite==2.8.3) (3.1.7)\n",
            "Requirement already satisfied: farama-notifications>=0.0.1 in ./venv/lib/python3.10/site-packages (from gymnasium==0.29.1->myosuite==2.8.3) (0.0.4)\n",
            "Requirement already satisfied: typing-extensions>=4.3.0 in ./venv/lib/python3.10/site-packages (from gymnasium==0.29.1->myosuite==2.8.3) (4.12.2)\n",
            "Requirement already satisfied: cloudpickle>=1.2.0 in ./venv/lib/python3.10/site-packages (from gymnasium==0.29.1->myosuite==2.8.3) (3.1.0)\n",
            "Requirement already satisfied: etils[epath] in ./venv/lib/python3.10/site-packages (from mujoco==3.1.2->myosuite==2.8.3) (1.10.0)\n",
            "Requirement already satisfied: six<2.0,>=1.12 in ./venv/lib/python3.10/site-packages (from flatten-dict->myosuite==2.8.3) (1.16.0)\n",
            "Requirement already satisfied: gitdb<5,>=4.0.1 in ./venv/lib/python3.10/site-packages (from gitpython->myosuite==2.8.3) (4.0.11)\n",
            "Requirement already satisfied: smmap<6,>=3.0.1 in ./venv/lib/python3.10/site-packages (from gitdb<5,>=4.0.1->gitpython->myosuite==2.8.3) (5.0.1)\n",
            "Requirement already satisfied: zipp in ./venv/lib/python3.10/site-packages (from etils[epath]->mujoco==3.1.2->myosuite==2.8.3) (3.21.0)\n",
            "Requirement already satisfied: fsspec in ./venv/lib/python3.10/site-packages (from etils[epath]->mujoco==3.1.2->myosuite==2.8.3) (2024.10.0)\n",
            "Requirement already satisfied: importlib_resources in ./venv/lib/python3.10/site-packages (from etils[epath]->mujoco==3.1.2->myosuite==2.8.3) (6.4.5)\n",
            "Requirement already satisfied: urllib3<3,>=1.21.1 in ./venv/lib/python3.10/site-packages (from requests->dm-control==1.0.16->myosuite==2.8.3) (2.2.3)\n",
            "Requirement already satisfied: idna<4,>=2.5 in ./venv/lib/python3.10/site-packages (from requests->dm-control==1.0.16->myosuite==2.8.3) (3.10)\n",
            "Requirement already satisfied: certifi>=2017.4.17 in ./venv/lib/python3.10/site-packages (from requests->dm-control==1.0.16->myosuite==2.8.3) (2024.8.30)\n",
            "Requirement already satisfied: charset-normalizer<4,>=2 in ./venv/lib/python3.10/site-packages (from requests->dm-control==1.0.16->myosuite==2.8.3) (3.4.0)\n",
            "Requirement already satisfied: mujoco==3.1.2 in ./venv/lib/python3.10/site-packages (3.1.2)\n",
            "Requirement already satisfied: numpy in ./venv/lib/python3.10/site-packages (from mujoco==3.1.2) (2.1.3)\n",
            "Requirement already satisfied: etils[epath] in ./venv/lib/python3.10/site-packages (from mujoco==3.1.2) (1.10.0)\n",
            "Requirement already satisfied: glfw in ./venv/lib/python3.10/site-packages (from mujoco==3.1.2) (2.7.0)\n",
            "Requirement already satisfied: absl-py in ./venv/lib/python3.10/site-packages (from mujoco==3.1.2) (2.1.0)\n",
            "Requirement already satisfied: pyopengl in ./venv/lib/python3.10/site-packages (from mujoco==3.1.2) (3.1.7)\n",
            "Requirement already satisfied: typing_extensions in ./venv/lib/python3.10/site-packages (from etils[epath]->mujoco==3.1.2) (4.12.2)\n",
            "Requirement already satisfied: importlib_resources in ./venv/lib/python3.10/site-packages (from etils[epath]->mujoco==3.1.2) (6.4.5)\n",
            "Requirement already satisfied: zipp in ./venv/lib/python3.10/site-packages (from etils[epath]->mujoco==3.1.2) (3.21.0)\n",
            "Requirement already satisfied: fsspec in ./venv/lib/python3.10/site-packages (from etils[epath]->mujoco==3.1.2) (2024.10.0)\n",
            "Requirement already satisfied: sk-video in ./venv/lib/python3.10/site-packages (1.1.10)\n",
            "Requirement already satisfied: scipy in ./venv/lib/python3.10/site-packages (from sk-video) (1.14.1)\n",
            "Requirement already satisfied: numpy in ./venv/lib/python3.10/site-packages (from sk-video) (2.1.3)\n",
            "env: MUJOCO_GL=egl\n"
          ]
        },
        {
          "name": "stderr",
          "output_type": "stream",
          "text": [
            "libEGL warning: failed to open /dev/dri/renderD128: Permission denied\n",
            "\n",
            "libEGL warning: NEEDS EXTENSION: falling back to kms_swrast\n"
          ]
        }
      ],
      "source": [
        "!pip install myosuite==2.8.3\n",
        "!pip install \"stable-baselines3[extra]\"  --quiet\n",
        "!pip install tqdm  --quiet\n",
        "!pip install mujoco==3.1.2\n",
        "!pip install sk-video\n",
        "%env MUJOCO_GL=egl\n",
        "import mujoco"
      ]
    },
    {
      "cell_type": "markdown",
      "metadata": {
        "id": "JZcidHz9Tf5E"
      },
      "source": [
        "## Define a method to show the rendering inside the Colab"
      ]
    },
    {
      "cell_type": "code",
      "execution_count": 3,
      "metadata": {
        "id": "q5iEl64VQ8Gk"
      },
      "outputs": [],
      "source": [
        "from IPython.display import HTML\n",
        "from base64 import b64encode\n",
        "\n",
        "def show_video(video_path, video_width = 400):\n",
        "\n",
        "  video_file = open(video_path, \"r+b\").read()\n",
        "\n",
        "  video_url = f\"data:video/mp4;base64,{b64encode(video_file).decode()}\"\n",
        "  return HTML(f\"\"\"<video autoplay width={video_width} controls><source src=\"{video_url}\"></video>\"\"\")"
      ]
    },
    {
      "cell_type": "markdown",
      "metadata": {
        "id": "fwNyaZFWTnw5"
      },
      "source": [
        "## All the `MyoSuite` imports needed to run this tutorial"
      ]
    },
    {
      "cell_type": "code",
      "execution_count": 4,
      "metadata": {
        "colab": {
          "base_uri": "https://localhost:8080/"
        },
        "id": "at7-mC4sTnQB",
        "outputId": "3f274e98-dc0e-4fc9-8b09-9c886a07884e"
      },
      "outputs": [
        {
          "name": "stdout",
          "output_type": "stream",
          "text": [
            "pygame 2.6.1 (SDL 2.28.4, Python 3.10.12)\n",
            "Hello from the pygame community. https://www.pygame.org/contribute.html\n"
          ]
        },
        {
          "name": "stderr",
          "output_type": "stream",
          "text": [
            "/home/ta747375ki/myochallenge-neuroflex/venv/lib/python3.10/site-packages/gymnasium/envs/registration.py:596: UserWarning: \u001b[33mWARN: plugin: shimmy.registration:register_gymnasium_envs raised Traceback (most recent call last):\n",
            "  File \"/home/ta747375ki/myochallenge-neuroflex/venv/lib/python3.10/site-packages/gymnasium/envs/registration.py\", line 594, in load_plugin_envs\n",
            "    fn()\n",
            "  File \"/home/ta747375ki/myochallenge-neuroflex/venv/lib/python3.10/site-packages/shimmy/registration.py\", line 303, in register_gymnasium_envs\n",
            "    _register_dm_control_envs()\n",
            "  File \"/home/ta747375ki/myochallenge-neuroflex/venv/lib/python3.10/site-packages/shimmy/registration.py\", line 63, in _register_dm_control_envs\n",
            "    from shimmy.dm_control_compatibility import DmControlCompatibilityV0\n",
            "  File \"/home/ta747375ki/myochallenge-neuroflex/venv/lib/python3.10/site-packages/shimmy/dm_control_compatibility.py\", line 20, in <module>\n",
            "    from gymnasium.envs.mujoco.mujoco_rendering import MujocoRenderer\n",
            "  File \"/home/ta747375ki/myochallenge-neuroflex/venv/lib/python3.10/site-packages/gymnasium/envs/mujoco/mujoco_rendering.py\", line 7, in <module>\n",
            "    import imageio\n",
            "ModuleNotFoundError: No module named 'imageio'\n",
            "\u001b[0m\n",
            "  logger.warn(f\"plugin: {plugin.value} raised {traceback.format_exc()}\")\n"
          ]
        },
        {
          "name": "stdout",
          "output_type": "stream",
          "text": [
            "MyoSuite:> Registering Myo Envs\n"
          ]
        }
      ],
      "source": [
        "import myosuite\n",
        "from myosuite.utils import gym\n",
        "import skvideo.io\n",
        "import numpy as np\n",
        "import os\n",
        "from stable_baselines3 import PPO\n",
        "from stable_baselines3.common.callbacks import CheckpointCallback\n",
        "# from tqdm import tqdm_notebook as tqdm\n",
        "from tqdm.notebook import tqdm"
      ]
    },
    {
      "cell_type": "markdown",
      "metadata": {
        "id": "ji8-37YOUAkr"
      },
      "source": [
        "## Download the latest baseline from Google Drive"
      ]
    },
    {
      "cell_type": "code",
      "execution_count": 5,
      "metadata": {
        "colab": {
          "base_uri": "https://localhost:8080/"
        },
        "id": "ihmnINqyVkM5",
        "outputId": "8220181d-0a46-4935-e778-b9e05398d5c3"
      },
      "outputs": [
        {
          "name": "stdout",
          "output_type": "stream",
          "text": [
            "Requirement already satisfied: wget in ./venv/lib/python3.10/site-packages (3.2)\n"
          ]
        }
      ],
      "source": [
        "!pip install wget\n",
        "import wget"
      ]
    },
    {
      "cell_type": "code",
      "execution_count": 6,
      "metadata": {
        "colab": {
          "base_uri": "https://localhost:8080/"
        },
        "id": "sgXPrO3gUAJT",
        "outputId": "32f5a9c4-81bc-444f-bfb0-bb643697e902"
      },
      "outputs": [
        {
          "name": "stderr",
          "output_type": "stream",
          "text": [
            "--2024-11-16 14:25:22--  https://drive.google.com/uc?export=download&id=168S3oTBmXuf23zDDGMM3tCJ3HBnjYhsM\n",
            "Resolving drive.google.com (drive.google.com)... 172.217.161.78, 2404:6800:4004:81f::200e\n",
            "Connecting to drive.google.com (drive.google.com)|172.217.161.78|:443... connected.\n",
            "HTTP request sent, awaiting response... 303 See Other\n",
            "Location: https://drive.usercontent.google.com/download?id=168S3oTBmXuf23zDDGMM3tCJ3HBnjYhsM&export=download [following]\n",
            "--2024-11-16 14:25:22--  https://drive.usercontent.google.com/download?id=168S3oTBmXuf23zDDGMM3tCJ3HBnjYhsM&export=download\n",
            "Resolving drive.usercontent.google.com (drive.usercontent.google.com)... 142.251.222.1, 2404:6800:4004:80f::2001\n",
            "Connecting to drive.usercontent.google.com (drive.usercontent.google.com)|142.251.222.1|:443... connected.\n",
            "HTTP request sent, awaiting response... 200 OK\n",
            "Length: 3167662 (3.0M) [application/octet-stream]\n",
            "Saving to: ‘baseline.zip’\n",
            "\n",
            "     0K .......... .......... .......... .......... ..........  1% 1.63M 2s\n",
            "    50K .......... .......... .......... .......... ..........  3% 1.27M 2s\n",
            "   100K .......... .......... .......... .......... ..........  4% 3.82M 2s\n",
            "   150K .......... .......... .......... .......... ..........  6% 3.36M 1s\n",
            "   200K .......... .......... .......... .......... ..........  8% 5.73M 1s\n",
            "   250K .......... .......... .......... .......... ..........  9% 4.27M 1s\n",
            "   300K .......... .......... .......... .......... .......... 11% 7.82M 1s\n",
            "   350K .......... .......... .......... .......... .......... 12% 5.96M 1s\n",
            "   400K .......... .......... .......... .......... .......... 14% 6.11M 1s\n",
            "   450K .......... .......... .......... .......... .......... 16% 6.92M 1s\n",
            "   500K .......... .......... .......... .......... .......... 17% 8.65M 1s\n",
            "   550K .......... .......... .......... .......... .......... 19% 9.47M 1s\n",
            "   600K .......... .......... .......... .......... .......... 21% 8.68M 1s\n",
            "   650K .......... .......... .......... .......... .......... 22% 8.11M 1s\n",
            "   700K .......... .......... .......... .......... .......... 24% 9.23M 1s\n",
            "   750K .......... .......... .......... .......... .......... 25% 9.22M 1s\n",
            "   800K .......... .......... .......... .......... .......... 27% 9.05M 0s\n",
            "   850K .......... .......... .......... .......... .......... 29% 7.33M 0s\n",
            "   900K .......... .......... .......... .......... .......... 30% 8.18M 0s\n",
            "   950K .......... .......... .......... .......... .......... 32% 10.4M 0s\n",
            "  1000K .......... .......... .......... .......... .......... 33% 4.64M 0s\n",
            "  1050K .......... .......... .......... .......... .......... 35% 29.2M 0s\n",
            "  1100K .......... .......... .......... .......... .......... 37% 9.03M 0s\n",
            "  1150K .......... .......... .......... .......... .......... 38% 7.91M 0s\n",
            "  1200K .......... .......... .......... .......... .......... 40% 12.0M 0s\n",
            "  1250K .......... .......... .......... .......... .......... 42% 9.08M 0s\n",
            "  1300K .......... .......... .......... .......... .......... 43% 7.34M 0s\n",
            "  1350K .......... .......... .......... .......... .......... 45% 9.08M 0s\n",
            "  1400K .......... .......... .......... .......... .......... 46% 12.7M 0s\n",
            "  1450K .......... .......... .......... .......... .......... 48% 6.28M 0s\n",
            "  1500K .......... .......... .......... .......... .......... 50% 7.23M 0s\n",
            "  1550K .......... .......... .......... .......... .......... 51% 17.2M 0s\n",
            "  1600K .......... .......... .......... .......... .......... 53% 7.08M 0s\n",
            "  1650K .......... .......... .......... .......... .......... 54% 9.93M 0s\n",
            "  1700K .......... .......... .......... .......... .......... 56% 10.7M 0s\n",
            "  1750K .......... .......... .......... .......... .......... 58% 9.61M 0s\n",
            "  1800K .......... .......... .......... .......... .......... 59% 6.20M 0s\n",
            "  1850K .......... .......... .......... .......... .......... 61% 6.14M 0s\n",
            "  1900K .......... .......... .......... .......... .......... 63% 5.20M 0s\n",
            "  1950K .......... .......... .......... .......... .......... 64% 16.2M 0s\n",
            "  2000K .......... .......... .......... .......... .......... 66% 5.42M 0s\n",
            "  2050K .......... .......... .......... .......... .......... 67% 11.0M 0s\n",
            "  2100K .......... .......... .......... .......... .......... 69% 25.5M 0s\n",
            "  2150K .......... .......... .......... .......... .......... 71% 14.8M 0s\n",
            "  2200K .......... .......... .......... .......... .......... 72% 5.91M 0s\n",
            "  2250K .......... .......... .......... .......... .......... 74% 34.3M 0s\n",
            "  2300K .......... .......... .......... .......... .......... 75% 10.6M 0s\n",
            "  2350K .......... .......... .......... .......... .......... 77% 7.25M 0s\n",
            "  2400K .......... .......... .......... .......... .......... 79% 10.9M 0s\n",
            "  2450K .......... .......... .......... .......... .......... 80% 11.0M 0s\n",
            "  2500K .......... .......... .......... .......... .......... 82% 9.16M 0s\n",
            "  2550K .......... .......... .......... ......"
          ]
        },
        {
          "name": "stdout",
          "output_type": "stream",
          "text": [
            "Successfully downloaded baseline.zip\n"
          ]
        },
        {
          "name": "stderr",
          "output_type": "stream",
          "text": [
            ".... .......... 84% 9.05M 0s\n",
            "  2600K .......... .......... .......... .......... .......... 85% 9.28M 0s\n",
            "  2650K .......... .......... .......... .......... .......... 87% 7.91M 0s\n",
            "  2700K .......... .......... .......... .......... .......... 88% 8.57M 0s\n",
            "  2750K .......... .......... .......... .......... .......... 90% 9.02M 0s\n",
            "  2800K .......... .......... .......... .......... .......... 92% 9.22M 0s\n",
            "  2850K .......... .......... .......... .......... .......... 93% 7.35M 0s\n",
            "  2900K .......... .......... .......... .......... .......... 95% 12.8M 0s\n",
            "  2950K .......... .......... .......... .......... .......... 96% 7.75M 0s\n",
            "  3000K .......... .......... .......... .......... .......... 98% 6.82M 0s\n",
            "  3050K .......... .......... .......... .......... ...       100% 21.8M=0.4s\n",
            "\n",
            "2024-11-16 14:25:28 (7.02 MB/s) - ‘baseline.zip’ saved [3167662/3167662]\n",
            "\n"
          ]
        }
      ],
      "source": [
        "# Importing necessary library\n",
        "import os\n",
        "\n",
        "file_id = '168S3oTBmXuf23zDDGMM3tCJ3HBnjYhsM'\n",
        "download_url = f'https://drive.google.com/uc?export=download&id={file_id}'\n",
        "target_file = 'baseline.zip'  # Change the file name and extension as needed\n",
        "# target_file = ROOT_DIR + 'baseline.zip'  # Change the file name and extension as needed\n",
        "\n",
        "# Using wget to download the file\n",
        "os.system(f'wget --no-check-certificate \"{download_url}\" -O {target_file}')\n",
        "\n",
        "# Check if the file is downloaded\n",
        "if os.path.exists(target_file):\n",
        "    print(f'Successfully downloaded {target_file}')\n",
        "else:\n",
        "    print('Failed to download the file')"
      ]
    },
    {
      "cell_type": "markdown",
      "metadata": {
        "id": "Cy48aX38V3Ap"
      },
      "source": [
        "## Starting the Manipulation Env and Loading the Baseline\n",
        "\n",
        "**The rendering of the policy would likely take a few minutes. Please be patient :)**\n",
        "\n"
      ]
    },
    {
      "cell_type": "code",
      "execution_count": 7,
      "metadata": {
        "colab": {
          "base_uri": "https://localhost:8080/"
        },
        "id": "ztQcB4i3V7L_",
        "outputId": "8c49b8a8-303f-4530-8a4f-1e2136e9c7f7"
      },
      "outputs": [
        {
          "name": "stdout",
          "output_type": "stream",
          "text": [
            "\u001b[36m    MyoSuite: A contact-rich simulation suite for musculoskeletal motor control\n",
            "        Vittorio Caggiano, Huawei Wang, Guillaume Durandau, Massimo Sartori, Vikash Kumar\n",
            "        L4DC-2019 | https://sites.google.com/view/myosuite\n",
            "    \u001b[0m\n"
          ]
        },
        {
          "name": "stderr",
          "output_type": "stream",
          "text": [
            "/home/ta747375ki/myochallenge-neuroflex/venv/lib/python3.10/site-packages/myosuite/envs/myo/myochallenge/bimanual_v0.py:432: DeprecationWarning: Conversion of an array with ndim > 0 to a scalar is deprecated, and will error in future. Ensure you extract a single element from your array before performing this operation. (Deprecated NumPy 1.25.)\n",
            "  self.manip_joint_range = np.arange(model.joint(\"manip_object/freejoint\").qposadr,\n",
            "/home/ta747375ki/myochallenge-neuroflex/venv/lib/python3.10/site-packages/myosuite/envs/myo/myochallenge/bimanual_v0.py:432: DeprecationWarning: Conversion of an array with ndim > 0 to a scalar is deprecated, and will error in future. Ensure you extract a single element from your array before performing this operation. (Deprecated NumPy 1.25.)\n",
            "  self.manip_joint_range = np.arange(model.joint(\"manip_object/freejoint\").qposadr,\n",
            "/home/ta747375ki/myochallenge-neuroflex/venv/lib/python3.10/site-packages/myosuite/envs/myo/myochallenge/bimanual_v0.py:432: DeprecationWarning: Conversion of an array with ndim > 0 to a scalar is deprecated, and will error in future. Ensure you extract a single element from your array before performing this operation. (Deprecated NumPy 1.25.)\n",
            "  self.manip_joint_range = np.arange(model.joint(\"manip_object/freejoint\").qposadr,\n",
            "/home/ta747375ki/myochallenge-neuroflex/venv/lib/python3.10/site-packages/myosuite/envs/myo/myochallenge/bimanual_v0.py:435: DeprecationWarning: Conversion of an array with ndim > 0 to a scalar is deprecated, and will error in future. Ensure you extract a single element from your array before performing this operation. (Deprecated NumPy 1.25.)\n",
            "  self.manip_dof_range = np.arange(model.joint(\"manip_object/freejoint\").dofadr,\n",
            "/home/ta747375ki/myochallenge-neuroflex/venv/lib/python3.10/site-packages/myosuite/envs/myo/myochallenge/bimanual_v0.py:435: DeprecationWarning: Conversion of an array with ndim > 0 to a scalar is deprecated, and will error in future. Ensure you extract a single element from your array before performing this operation. (Deprecated NumPy 1.25.)\n",
            "  self.manip_dof_range = np.arange(model.joint(\"manip_object/freejoint\").dofadr,\n",
            "/home/ta747375ki/myochallenge-neuroflex/venv/lib/python3.10/site-packages/myosuite/envs/myo/myochallenge/bimanual_v0.py:435: DeprecationWarning: Conversion of an array with ndim > 0 to a scalar is deprecated, and will error in future. Ensure you extract a single element from your array before performing this operation. (Deprecated NumPy 1.25.)\n",
            "  self.manip_dof_range = np.arange(model.joint(\"manip_object/freejoint\").dofadr,\n",
            "/home/ta747375ki/myochallenge-neuroflex/venv/lib/python3.10/site-packages/myosuite/envs/myo/myochallenge/bimanual_v0.py:170: DeprecationWarning: Conversion of an array with ndim > 0 to a scalar is deprecated, and will error in future. Ensure you extract a single element from your array before performing this operation. (Deprecated NumPy 1.25.)\n",
            "  self.obj_vert_addr = np.arange(self.sim.model.mesh(self.obj_mid).vertadr,\n",
            "/home/ta747375ki/myochallenge-neuroflex/venv/lib/python3.10/site-packages/myosuite/envs/myo/myochallenge/bimanual_v0.py:170: DeprecationWarning: Conversion of an array with ndim > 0 to a scalar is deprecated, and will error in future. Ensure you extract a single element from your array before performing this operation. (Deprecated NumPy 1.25.)\n",
            "  self.obj_vert_addr = np.arange(self.sim.model.mesh(self.obj_mid).vertadr,\n",
            "/home/ta747375ki/myochallenge-neuroflex/venv/lib/python3.10/site-packages/myosuite/envs/myo/myochallenge/bimanual_v0.py:170: DeprecationWarning: Conversion of an array with ndim > 0 to a scalar is deprecated, and will error in future. Ensure you extract a single element from your array before performing this operation. (Deprecated NumPy 1.25.)\n",
            "  self.obj_vert_addr = np.arange(self.sim.model.mesh(self.obj_mid).vertadr,\n",
            "/home/ta747375ki/myochallenge-neuroflex/venv/lib/python3.10/site-packages/myosuite/envs/myo/myochallenge/bimanual_v0.py:172: DeprecationWarning: Conversion of an array with ndim > 0 to a scalar is deprecated, and will error in future. Ensure you extract a single element from your array before performing this operation. (Deprecated NumPy 1.25.)\n",
            "  q = self.sim.model.geom(self.obj_gid - 1).quat\n",
            "/home/ta747375ki/myochallenge-neuroflex/venv/lib/python3.10/site-packages/myosuite/envs/myo/myochallenge/bimanual_v0.py:176: DeprecationWarning: Conversion of an array with ndim > 0 to a scalar is deprecated, and will error in future. Ensure you extract a single element from your array before performing this operation. (Deprecated NumPy 1.25.)\n",
            "  self.sim.model.geom(self.obj_gid - 1).quat = [1, 0, 0, 0]\n",
            "/home/ta747375ki/myochallenge-neuroflex/venv/lib/python3.10/site-packages/myosuite/envs/myo/myochallenge/bimanual_v0.py:177: DeprecationWarning: Conversion of an array with ndim > 0 to a scalar is deprecated, and will error in future. Ensure you extract a single element from your array before performing this operation. (Deprecated NumPy 1.25.)\n",
            "  self.sim.model.mesh_vert[self.obj_vert_addr] += (self.sim.model.geom(self.obj_gid - 1).pos\n",
            "/home/ta747375ki/myochallenge-neuroflex/venv/lib/python3.10/site-packages/myosuite/envs/myo/myochallenge/bimanual_v0.py:178: DeprecationWarning: Conversion of an array with ndim > 0 to a scalar is deprecated, and will error in future. Ensure you extract a single element from your array before performing this operation. (Deprecated NumPy 1.25.)\n",
            "  - self.sim.model.geom(self.obj_gid).pos)[None, :]\n",
            "/home/ta747375ki/myochallenge-neuroflex/venv/lib/python3.10/site-packages/myosuite/envs/myo/myochallenge/bimanual_v0.py:180: DeprecationWarning: Conversion of an array with ndim > 0 to a scalar is deprecated, and will error in future. Ensure you extract a single element from your array before performing this operation. (Deprecated NumPy 1.25.)\n",
            "  self.sim.model.geom(self.obj_gid - 1).pos = self.sim.model.geom(self.obj_gid).pos\n",
            "/home/ta747375ki/myochallenge-neuroflex/venv/lib/python3.10/site-packages/myosuite/envs/myo/myochallenge/bimanual_v0.py:180: DeprecationWarning: Conversion of an array with ndim > 0 to a scalar is deprecated, and will error in future. Ensure you extract a single element from your array before performing this operation. (Deprecated NumPy 1.25.)\n",
            "  self.sim.model.geom(self.obj_gid - 1).pos = self.sim.model.geom(self.obj_gid).pos\n"
          ]
        }
      ],
      "source": [
        "env_name = 'myoChallengeBimanual-v0'\n",
        "env = gym.make(env_name)"
      ]
    },
    {
      "cell_type": "code",
      "execution_count": 8,
      "metadata": {
        "colab": {
          "base_uri": "https://localhost:8080/"
        },
        "id": "OE0zSmINWElF",
        "outputId": "f5c6b3e1-3fbd-4323-b7ff-89208496627f"
      },
      "outputs": [
        {
          "name": "stderr",
          "output_type": "stream",
          "text": [
            "/home/ta747375ki/myochallenge-neuroflex/venv/lib/python3.10/site-packages/stable_baselines3/common/save_util.py:165: DeprecationWarning: numpy.core.numeric is deprecated and has been renamed to numpy._core.numeric. The numpy._core namespace contains private NumPy internals and its use is discouraged, as NumPy internals can change without warning in any release. In practice, most real-world usage of numpy.core is to access functionality in the public NumPy API. If that is the case, use the public NumPy API. If not, you are using NumPy internals. If you would still like to access an internal attribute, use numpy._core.numeric._frombuffer.\n",
            "  deserialized_object = cloudpickle.loads(base64_object)\n",
            "/home/ta747375ki/myochallenge-neuroflex/venv/lib/python3.10/site-packages/stable_baselines3/common/save_util.py:165: DeprecationWarning: numpy.core.numeric is deprecated and has been renamed to numpy._core.numeric. The numpy._core namespace contains private NumPy internals and its use is discouraged, as NumPy internals can change without warning in any release. In practice, most real-world usage of numpy.core is to access functionality in the public NumPy API. If that is the case, use the public NumPy API. If not, you are using NumPy internals. If you would still like to access an internal attribute, use numpy._core.numeric._frombuffer.\n",
            "  deserialized_object = cloudpickle.loads(base64_object)\n",
            "/home/ta747375ki/myochallenge-neuroflex/venv/lib/python3.10/site-packages/stable_baselines3/common/save_util.py:165: DeprecationWarning: numpy.core.numeric is deprecated and has been renamed to numpy._core.numeric. The numpy._core namespace contains private NumPy internals and its use is discouraged, as NumPy internals can change without warning in any release. In practice, most real-world usage of numpy.core is to access functionality in the public NumPy API. If that is the case, use the public NumPy API. If not, you are using NumPy internals. If you would still like to access an internal attribute, use numpy._core.numeric._frombuffer.\n",
            "  deserialized_object = cloudpickle.loads(base64_object)\n",
            "/home/ta747375ki/myochallenge-neuroflex/venv/lib/python3.10/site-packages/stable_baselines3/common/save_util.py:165: DeprecationWarning: numpy.core.numeric is deprecated and has been renamed to numpy._core.numeric. The numpy._core namespace contains private NumPy internals and its use is discouraged, as NumPy internals can change without warning in any release. In practice, most real-world usage of numpy.core is to access functionality in the public NumPy API. If that is the case, use the public NumPy API. If not, you are using NumPy internals. If you would still like to access an internal attribute, use numpy._core.numeric._frombuffer.\n",
            "  deserialized_object = cloudpickle.loads(base64_object)\n",
            "/home/ta747375ki/myochallenge-neuroflex/venv/lib/python3.10/site-packages/gymnasium/core.py:311: UserWarning: \u001b[33mWARN: env.seed to get variables from other wrappers is deprecated and will be removed in v1.0, to get this variable you can do `env.unwrapped.seed` for environment variables or `env.get_wrapper_attr('seed')` that will search the reminding wrappers.\u001b[0m\n",
            "  logger.warn(\n",
            "/home/ta747375ki/myochallenge-neuroflex/venv/lib/python3.10/site-packages/myosuite/envs/myo/myochallenge/bimanual_v0.py:368: DeprecationWarning: Conversion of an array with ndim > 0 to a scalar is deprecated, and will error in future. Ensure you extract a single element from your array before performing this operation. (Deprecated NumPy 1.25.)\n",
            "  self.sim.model.geom(self.obj_gid).size = self.obj_size0 * obj_scales\n",
            "/home/ta747375ki/myochallenge-neuroflex/venv/lib/python3.10/site-packages/gymnasium/utils/passive_env_checker.py:159: UserWarning: \u001b[33mWARN: The obs returned by the `step()` method is not within the observation space.\u001b[0m\n",
            "  logger.warn(f\"{pre} is not within the observation space.\")\n",
            "/home/ta747375ki/myochallenge-neuroflex/venv/lib/python3.10/site-packages/myosuite/envs/myo/myochallenge/bimanual_v0.py:368: DeprecationWarning: Conversion of an array with ndim > 0 to a scalar is deprecated, and will error in future. Ensure you extract a single element from your array before performing this operation. (Deprecated NumPy 1.25.)\n",
            "  self.sim.model.geom(self.obj_gid).size = self.obj_size0 * obj_scales\n",
            "/home/ta747375ki/myochallenge-neuroflex/venv/lib/python3.10/site-packages/myosuite/envs/myo/myochallenge/bimanual_v0.py:368: DeprecationWarning: Conversion of an array with ndim > 0 to a scalar is deprecated, and will error in future. Ensure you extract a single element from your array before performing this operation. (Deprecated NumPy 1.25.)\n",
            "  self.sim.model.geom(self.obj_gid).size = self.obj_size0 * obj_scales\n",
            "/home/ta747375ki/myochallenge-neuroflex/venv/lib/python3.10/site-packages/myosuite/envs/myo/myochallenge/bimanual_v0.py:368: DeprecationWarning: Conversion of an array with ndim > 0 to a scalar is deprecated, and will error in future. Ensure you extract a single element from your array before performing this operation. (Deprecated NumPy 1.25.)\n",
            "  self.sim.model.geom(self.obj_gid).size = self.obj_size0 * obj_scales\n",
            "/home/ta747375ki/myochallenge-neuroflex/venv/lib/python3.10/site-packages/myosuite/envs/myo/myochallenge/bimanual_v0.py:368: DeprecationWarning: Conversion of an array with ndim > 0 to a scalar is deprecated, and will error in future. Ensure you extract a single element from your array before performing this operation. (Deprecated NumPy 1.25.)\n",
            "  self.sim.model.geom(self.obj_gid).size = self.obj_size0 * obj_scales\n",
            "/home/ta747375ki/myochallenge-neuroflex/venv/lib/python3.10/site-packages/myosuite/envs/myo/myochallenge/bimanual_v0.py:368: DeprecationWarning: Conversion of an array with ndim > 0 to a scalar is deprecated, and will error in future. Ensure you extract a single element from your array before performing this operation. (Deprecated NumPy 1.25.)\n",
            "  self.sim.model.geom(self.obj_gid).size = self.obj_size0 * obj_scales\n",
            "/home/ta747375ki/myochallenge-neuroflex/venv/lib/python3.10/site-packages/myosuite/envs/myo/myochallenge/bimanual_v0.py:368: DeprecationWarning: Conversion of an array with ndim > 0 to a scalar is deprecated, and will error in future. Ensure you extract a single element from your array before performing this operation. (Deprecated NumPy 1.25.)\n",
            "  self.sim.model.geom(self.obj_gid).size = self.obj_size0 * obj_scales\n",
            "/home/ta747375ki/myochallenge-neuroflex/venv/lib/python3.10/site-packages/myosuite/envs/myo/myochallenge/bimanual_v0.py:368: DeprecationWarning: Conversion of an array with ndim > 0 to a scalar is deprecated, and will error in future. Ensure you extract a single element from your array before performing this operation. (Deprecated NumPy 1.25.)\n",
            "  self.sim.model.geom(self.obj_gid).size = self.obj_size0 * obj_scales\n",
            "/home/ta747375ki/myochallenge-neuroflex/venv/lib/python3.10/site-packages/myosuite/envs/myo/myochallenge/bimanual_v0.py:368: DeprecationWarning: Conversion of an array with ndim > 0 to a scalar is deprecated, and will error in future. Ensure you extract a single element from your array before performing this operation. (Deprecated NumPy 1.25.)\n",
            "  self.sim.model.geom(self.obj_gid).size = self.obj_size0 * obj_scales\n",
            "/home/ta747375ki/myochallenge-neuroflex/venv/lib/python3.10/site-packages/myosuite/envs/myo/myochallenge/bimanual_v0.py:368: DeprecationWarning: Conversion of an array with ndim > 0 to a scalar is deprecated, and will error in future. Ensure you extract a single element from your array before performing this operation. (Deprecated NumPy 1.25.)\n",
            "  self.sim.model.geom(self.obj_gid).size = self.obj_size0 * obj_scales\n",
            "/home/ta747375ki/myochallenge-neuroflex/venv/lib/python3.10/site-packages/myosuite/envs/myo/myochallenge/bimanual_v0.py:368: DeprecationWarning: Conversion of an array with ndim > 0 to a scalar is deprecated, and will error in future. Ensure you extract a single element from your array before performing this operation. (Deprecated NumPy 1.25.)\n",
            "  self.sim.model.geom(self.obj_gid).size = self.obj_size0 * obj_scales\n",
            "/home/ta747375ki/myochallenge-neuroflex/venv/lib/python3.10/site-packages/myosuite/envs/myo/myochallenge/bimanual_v0.py:368: DeprecationWarning: Conversion of an array with ndim > 0 to a scalar is deprecated, and will error in future. Ensure you extract a single element from your array before performing this operation. (Deprecated NumPy 1.25.)\n",
            "  self.sim.model.geom(self.obj_gid).size = self.obj_size0 * obj_scales\n",
            "/home/ta747375ki/myochallenge-neuroflex/venv/lib/python3.10/site-packages/myosuite/envs/myo/myochallenge/bimanual_v0.py:368: DeprecationWarning: Conversion of an array with ndim > 0 to a scalar is deprecated, and will error in future. Ensure you extract a single element from your array before performing this operation. (Deprecated NumPy 1.25.)\n",
            "  self.sim.model.geom(self.obj_gid).size = self.obj_size0 * obj_scales\n",
            "/home/ta747375ki/myochallenge-neuroflex/venv/lib/python3.10/site-packages/myosuite/envs/myo/myochallenge/bimanual_v0.py:368: DeprecationWarning: Conversion of an array with ndim > 0 to a scalar is deprecated, and will error in future. Ensure you extract a single element from your array before performing this operation. (Deprecated NumPy 1.25.)\n",
            "  self.sim.model.geom(self.obj_gid).size = self.obj_size0 * obj_scales\n",
            "/home/ta747375ki/myochallenge-neuroflex/venv/lib/python3.10/site-packages/myosuite/envs/myo/myochallenge/bimanual_v0.py:368: DeprecationWarning: Conversion of an array with ndim > 0 to a scalar is deprecated, and will error in future. Ensure you extract a single element from your array before performing this operation. (Deprecated NumPy 1.25.)\n",
            "  self.sim.model.geom(self.obj_gid).size = self.obj_size0 * obj_scales\n",
            "/home/ta747375ki/myochallenge-neuroflex/venv/lib/python3.10/site-packages/myosuite/envs/myo/myochallenge/bimanual_v0.py:368: DeprecationWarning: Conversion of an array with ndim > 0 to a scalar is deprecated, and will error in future. Ensure you extract a single element from your array before performing this operation. (Deprecated NumPy 1.25.)\n",
            "  self.sim.model.geom(self.obj_gid).size = self.obj_size0 * obj_scales\n",
            "/home/ta747375ki/myochallenge-neuroflex/venv/lib/python3.10/site-packages/myosuite/envs/myo/myochallenge/bimanual_v0.py:368: DeprecationWarning: Conversion of an array with ndim > 0 to a scalar is deprecated, and will error in future. Ensure you extract a single element from your array before performing this operation. (Deprecated NumPy 1.25.)\n",
            "  self.sim.model.geom(self.obj_gid).size = self.obj_size0 * obj_scales\n",
            "/home/ta747375ki/myochallenge-neuroflex/venv/lib/python3.10/site-packages/myosuite/envs/myo/myochallenge/bimanual_v0.py:368: DeprecationWarning: Conversion of an array with ndim > 0 to a scalar is deprecated, and will error in future. Ensure you extract a single element from your array before performing this operation. (Deprecated NumPy 1.25.)\n",
            "  self.sim.model.geom(self.obj_gid).size = self.obj_size0 * obj_scales\n",
            "/home/ta747375ki/myochallenge-neuroflex/venv/lib/python3.10/site-packages/myosuite/envs/myo/myochallenge/bimanual_v0.py:368: DeprecationWarning: Conversion of an array with ndim > 0 to a scalar is deprecated, and will error in future. Ensure you extract a single element from your array before performing this operation. (Deprecated NumPy 1.25.)\n",
            "  self.sim.model.geom(self.obj_gid).size = self.obj_size0 * obj_scales\n",
            "/home/ta747375ki/myochallenge-neuroflex/venv/lib/python3.10/site-packages/myosuite/envs/myo/myochallenge/bimanual_v0.py:368: DeprecationWarning: Conversion of an array with ndim > 0 to a scalar is deprecated, and will error in future. Ensure you extract a single element from your array before performing this operation. (Deprecated NumPy 1.25.)\n",
            "  self.sim.model.geom(self.obj_gid).size = self.obj_size0 * obj_scales\n",
            "/home/ta747375ki/myochallenge-neuroflex/venv/lib/python3.10/site-packages/myosuite/envs/myo/myochallenge/bimanual_v0.py:368: DeprecationWarning: Conversion of an array with ndim > 0 to a scalar is deprecated, and will error in future. Ensure you extract a single element from your array before performing this operation. (Deprecated NumPy 1.25.)\n",
            "  self.sim.model.geom(self.obj_gid).size = self.obj_size0 * obj_scales\n",
            "/home/ta747375ki/myochallenge-neuroflex/venv/lib/python3.10/site-packages/myosuite/envs/myo/myochallenge/bimanual_v0.py:368: DeprecationWarning: Conversion of an array with ndim > 0 to a scalar is deprecated, and will error in future. Ensure you extract a single element from your array before performing this operation. (Deprecated NumPy 1.25.)\n",
            "  self.sim.model.geom(self.obj_gid).size = self.obj_size0 * obj_scales\n",
            "/home/ta747375ki/myochallenge-neuroflex/venv/lib/python3.10/site-packages/myosuite/envs/myo/myochallenge/bimanual_v0.py:368: DeprecationWarning: Conversion of an array with ndim > 0 to a scalar is deprecated, and will error in future. Ensure you extract a single element from your array before performing this operation. (Deprecated NumPy 1.25.)\n",
            "  self.sim.model.geom(self.obj_gid).size = self.obj_size0 * obj_scales\n",
            "/home/ta747375ki/myochallenge-neuroflex/venv/lib/python3.10/site-packages/myosuite/envs/myo/myochallenge/bimanual_v0.py:368: DeprecationWarning: Conversion of an array with ndim > 0 to a scalar is deprecated, and will error in future. Ensure you extract a single element from your array before performing this operation. (Deprecated NumPy 1.25.)\n",
            "  self.sim.model.geom(self.obj_gid).size = self.obj_size0 * obj_scales\n",
            "/home/ta747375ki/myochallenge-neuroflex/venv/lib/python3.10/site-packages/myosuite/envs/myo/myochallenge/bimanual_v0.py:368: DeprecationWarning: Conversion of an array with ndim > 0 to a scalar is deprecated, and will error in future. Ensure you extract a single element from your array before performing this operation. (Deprecated NumPy 1.25.)\n",
            "  self.sim.model.geom(self.obj_gid).size = self.obj_size0 * obj_scales\n",
            "/home/ta747375ki/myochallenge-neuroflex/venv/lib/python3.10/site-packages/myosuite/envs/myo/myochallenge/bimanual_v0.py:368: DeprecationWarning: Conversion of an array with ndim > 0 to a scalar is deprecated, and will error in future. Ensure you extract a single element from your array before performing this operation. (Deprecated NumPy 1.25.)\n",
            "  self.sim.model.geom(self.obj_gid).size = self.obj_size0 * obj_scales\n",
            "/home/ta747375ki/myochallenge-neuroflex/venv/lib/python3.10/site-packages/myosuite/envs/myo/myochallenge/bimanual_v0.py:368: DeprecationWarning: Conversion of an array with ndim > 0 to a scalar is deprecated, and will error in future. Ensure you extract a single element from your array before performing this operation. (Deprecated NumPy 1.25.)\n",
            "  self.sim.model.geom(self.obj_gid).size = self.obj_size0 * obj_scales\n",
            "/home/ta747375ki/myochallenge-neuroflex/venv/lib/python3.10/site-packages/myosuite/envs/myo/myochallenge/bimanual_v0.py:368: DeprecationWarning: Conversion of an array with ndim > 0 to a scalar is deprecated, and will error in future. Ensure you extract a single element from your array before performing this operation. (Deprecated NumPy 1.25.)\n",
            "  self.sim.model.geom(self.obj_gid).size = self.obj_size0 * obj_scales\n",
            "/home/ta747375ki/myochallenge-neuroflex/venv/lib/python3.10/site-packages/myosuite/envs/myo/myochallenge/bimanual_v0.py:368: DeprecationWarning: Conversion of an array with ndim > 0 to a scalar is deprecated, and will error in future. Ensure you extract a single element from your array before performing this operation. (Deprecated NumPy 1.25.)\n",
            "  self.sim.model.geom(self.obj_gid).size = self.obj_size0 * obj_scales\n",
            "/home/ta747375ki/myochallenge-neuroflex/venv/lib/python3.10/site-packages/myosuite/envs/myo/myochallenge/bimanual_v0.py:368: DeprecationWarning: Conversion of an array with ndim > 0 to a scalar is deprecated, and will error in future. Ensure you extract a single element from your array before performing this operation. (Deprecated NumPy 1.25.)\n",
            "  self.sim.model.geom(self.obj_gid).size = self.obj_size0 * obj_scales\n",
            "/home/ta747375ki/myochallenge-neuroflex/venv/lib/python3.10/site-packages/myosuite/envs/myo/myochallenge/bimanual_v0.py:368: DeprecationWarning: Conversion of an array with ndim > 0 to a scalar is deprecated, and will error in future. Ensure you extract a single element from your array before performing this operation. (Deprecated NumPy 1.25.)\n",
            "  self.sim.model.geom(self.obj_gid).size = self.obj_size0 * obj_scales\n",
            "/home/ta747375ki/myochallenge-neuroflex/venv/lib/python3.10/site-packages/myosuite/envs/myo/myochallenge/bimanual_v0.py:368: DeprecationWarning: Conversion of an array with ndim > 0 to a scalar is deprecated, and will error in future. Ensure you extract a single element from your array before performing this operation. (Deprecated NumPy 1.25.)\n",
            "  self.sim.model.geom(self.obj_gid).size = self.obj_size0 * obj_scales\n",
            "/home/ta747375ki/myochallenge-neuroflex/venv/lib/python3.10/site-packages/myosuite/envs/myo/myochallenge/bimanual_v0.py:368: DeprecationWarning: Conversion of an array with ndim > 0 to a scalar is deprecated, and will error in future. Ensure you extract a single element from your array before performing this operation. (Deprecated NumPy 1.25.)\n",
            "  self.sim.model.geom(self.obj_gid).size = self.obj_size0 * obj_scales\n",
            "/home/ta747375ki/myochallenge-neuroflex/venv/lib/python3.10/site-packages/myosuite/envs/myo/myochallenge/bimanual_v0.py:368: DeprecationWarning: Conversion of an array with ndim > 0 to a scalar is deprecated, and will error in future. Ensure you extract a single element from your array before performing this operation. (Deprecated NumPy 1.25.)\n",
            "  self.sim.model.geom(self.obj_gid).size = self.obj_size0 * obj_scales\n",
            "/home/ta747375ki/myochallenge-neuroflex/venv/lib/python3.10/site-packages/myosuite/envs/myo/myochallenge/bimanual_v0.py:368: DeprecationWarning: Conversion of an array with ndim > 0 to a scalar is deprecated, and will error in future. Ensure you extract a single element from your array before performing this operation. (Deprecated NumPy 1.25.)\n",
            "  self.sim.model.geom(self.obj_gid).size = self.obj_size0 * obj_scales\n"
          ]
        },
        {
          "data": {
            "text/plain": [
              "<stable_baselines3.ppo.ppo.PPO at 0x7ffa6997b370>"
            ]
          },
          "execution_count": 8,
          "metadata": {},
          "output_type": "execute_result"
        }
      ],
      "source": [
        "checkpoint_callback = CheckpointCallback(save_freq=1000, save_path='./logs/', name_prefix='ppo_model')\n",
        "model = PPO.load('baseline', env)\n",
        "env.reset()\n",
        "env.seed(51) #setting a seed for the env\n",
        "tb_log_name = \"ppo_training\"\n",
        "model.learn(total_timesteps=5000, callback=checkpoint_callback, tb_log_name=tb_log_name)\n",
        "# model = PPO.load(\"./src/logs/ppo_model_6000_steps.zip\", env)"
      ]
    },
    {
      "cell_type": "code",
      "execution_count": 21,
      "metadata": {},
      "outputs": [],
      "source": [
        "model = PPO.load(\"./logs/ppo_model_6000_steps.zip\", env, device='cpu')  # Load model on CPU\n"
      ]
    },
    {
      "cell_type": "code",
      "execution_count": 24,
      "metadata": {
        "colab": {
          "base_uri": "https://localhost:8080/",
          "height": 364,
          "referenced_widgets": [
            "1042a57f2b004f7b8e64c9a3e35333dc",
            "0c5a380994ea4718877b243bc71189d5",
            "73e5c659dfe446e999420ffd9a19357d",
            "bf39a5f2d98a4dda9a10e768786e0391",
            "9d19aa50483f4023a41b0f28847e2b31",
            "7dbc44aeeabc49879d88b7f39361896f",
            "d35449dee75144fd821a6c2f5055fffa",
            "3f946209e87e41e3a8ff374cdc222c75",
            "f2d72b9aafe845ad874fee104ad1be35",
            "8579dea2e7ad443f9ffccbf18d04fbc8",
            "fde30e6d84984ee6a04a814769fc075e"
          ]
        },
        "id": "Iy4aj3jTWM2S",
        "outputId": "3d96aef3-0e39-4019-a3ee-b9f98a6819b8"
      },
      "outputs": [
        {
          "name": "stderr",
          "output_type": "stream",
          "text": [
            "/home/ta747375ki/myochallenge-neuroflex/venv/lib/python3.10/site-packages/gymnasium/core.py:311: UserWarning: \u001b[33mWARN: env.obsdict2obsvec to get variables from other wrappers is deprecated and will be removed in v1.0, to get this variable you can do `env.unwrapped.obsdict2obsvec` for environment variables or `env.get_wrapper_attr('obsdict2obsvec')` that will search the reminding wrappers.\u001b[0m\n",
            "  logger.warn(\n",
            "/home/ta747375ki/myochallenge-neuroflex/venv/lib/python3.10/site-packages/gymnasium/core.py:311: UserWarning: \u001b[33mWARN: env.obs_dict to get variables from other wrappers is deprecated and will be removed in v1.0, to get this variable you can do `env.unwrapped.obs_dict` for environment variables or `env.get_wrapper_attr('obs_dict')` that will search the reminding wrappers.\u001b[0m\n",
            "  logger.warn(\n",
            "/home/ta747375ki/myochallenge-neuroflex/venv/lib/python3.10/site-packages/gymnasium/core.py:311: UserWarning: \u001b[33mWARN: env.obs_keys to get variables from other wrappers is deprecated and will be removed in v1.0, to get this variable you can do `env.unwrapped.obs_keys` for environment variables or `env.get_wrapper_attr('obs_keys')` that will search the reminding wrappers.\u001b[0m\n",
            "  logger.warn(\n",
            "/home/ta747375ki/myochallenge-neuroflex/venv/lib/python3.10/site-packages/gymnasium/core.py:311: UserWarning: \u001b[33mWARN: env.sim to get variables from other wrappers is deprecated and will be removed in v1.0, to get this variable you can do `env.unwrapped.sim` for environment variables or `env.get_wrapper_attr('sim')` that will search the reminding wrappers.\u001b[0m\n",
            "  logger.warn(\n"
          ]
        },
        {
          "ename": "FileNotFoundError",
          "evalue": "[Errno 2] No such file or directory: 'videos/test_policy1.mp4'",
          "output_type": "error",
          "traceback": [
            "\u001b[0;31m---------------------------------------------------------------------------\u001b[0m",
            "\u001b[0;31mFileNotFoundError\u001b[0m                         Traceback (most recent call last)",
            "Cell \u001b[0;32mIn[24], line 48\u001b[0m\n\u001b[1;32m     46\u001b[0m \u001b[38;5;66;03m# make a local copy\u001b[39;00m\n\u001b[1;32m     47\u001b[0m skvideo\u001b[38;5;241m.\u001b[39mio\u001b[38;5;241m.\u001b[39mvwrite(\u001b[38;5;124m'\u001b[39m\u001b[38;5;124mvideos/test_policy.mp4\u001b[39m\u001b[38;5;124m'\u001b[39m, np\u001b[38;5;241m.\u001b[39masarray(frames), inputdict \u001b[38;5;241m=\u001b[39m {\u001b[38;5;124m'\u001b[39m\u001b[38;5;124m-r\u001b[39m\u001b[38;5;124m'\u001b[39m: \u001b[38;5;124m'\u001b[39m\u001b[38;5;124m100\u001b[39m\u001b[38;5;124m'\u001b[39m}, outputdict\u001b[38;5;241m=\u001b[39m{\u001b[38;5;124m\"\u001b[39m\u001b[38;5;124m-pix_fmt\u001b[39m\u001b[38;5;124m\"\u001b[39m: \u001b[38;5;124m\"\u001b[39m\u001b[38;5;124myuv420p\u001b[39m\u001b[38;5;124m\"\u001b[39m})\n\u001b[0;32m---> 48\u001b[0m \u001b[43mshow_video\u001b[49m\u001b[43m(\u001b[49m\u001b[38;5;124;43m'\u001b[39;49m\u001b[38;5;124;43mvideos/test_policy1.mp4\u001b[39;49m\u001b[38;5;124;43m'\u001b[39;49m\u001b[43m)\u001b[49m\n",
            "Cell \u001b[0;32mIn[7], line 6\u001b[0m, in \u001b[0;36mshow_video\u001b[0;34m(video_path, video_width)\u001b[0m\n\u001b[1;32m      4\u001b[0m \u001b[38;5;28;01mdef\u001b[39;00m \u001b[38;5;21mshow_video\u001b[39m(video_path, video_width \u001b[38;5;241m=\u001b[39m \u001b[38;5;241m400\u001b[39m):\n\u001b[0;32m----> 6\u001b[0m   video_file \u001b[38;5;241m=\u001b[39m \u001b[38;5;28;43mopen\u001b[39;49m\u001b[43m(\u001b[49m\u001b[43mvideo_path\u001b[49m\u001b[43m,\u001b[49m\u001b[43m \u001b[49m\u001b[38;5;124;43m\"\u001b[39;49m\u001b[38;5;124;43mr+b\u001b[39;49m\u001b[38;5;124;43m\"\u001b[39;49m\u001b[43m)\u001b[49m\u001b[38;5;241m.\u001b[39mread()\n\u001b[1;32m      8\u001b[0m   video_url \u001b[38;5;241m=\u001b[39m \u001b[38;5;124mf\u001b[39m\u001b[38;5;124m\"\u001b[39m\u001b[38;5;124mdata:video/mp4;base64,\u001b[39m\u001b[38;5;132;01m{\u001b[39;00mb64encode(video_file)\u001b[38;5;241m.\u001b[39mdecode()\u001b[38;5;132;01m}\u001b[39;00m\u001b[38;5;124m\"\u001b[39m\n\u001b[1;32m      9\u001b[0m   \u001b[38;5;28;01mreturn\u001b[39;00m HTML(\u001b[38;5;124mf\u001b[39m\u001b[38;5;124m\"\"\"\u001b[39m\u001b[38;5;124m<video autoplay width=\u001b[39m\u001b[38;5;132;01m{\u001b[39;00mvideo_width\u001b[38;5;132;01m}\u001b[39;00m\u001b[38;5;124m controls><source src=\u001b[39m\u001b[38;5;124m\"\u001b[39m\u001b[38;5;132;01m{\u001b[39;00mvideo_url\u001b[38;5;132;01m}\u001b[39;00m\u001b[38;5;124m\"\u001b[39m\u001b[38;5;124m></video>\u001b[39m\u001b[38;5;124m\"\"\"\u001b[39m)\n",
            "File \u001b[0;32m~/myochallenge-neuroflex/venv/lib/python3.10/site-packages/IPython/core/interactiveshell.py:324\u001b[0m, in \u001b[0;36m_modified_open\u001b[0;34m(file, *args, **kwargs)\u001b[0m\n\u001b[1;32m    317\u001b[0m \u001b[38;5;28;01mif\u001b[39;00m file \u001b[38;5;129;01min\u001b[39;00m {\u001b[38;5;241m0\u001b[39m, \u001b[38;5;241m1\u001b[39m, \u001b[38;5;241m2\u001b[39m}:\n\u001b[1;32m    318\u001b[0m     \u001b[38;5;28;01mraise\u001b[39;00m \u001b[38;5;167;01mValueError\u001b[39;00m(\n\u001b[1;32m    319\u001b[0m         \u001b[38;5;124mf\u001b[39m\u001b[38;5;124m\"\u001b[39m\u001b[38;5;124mIPython won\u001b[39m\u001b[38;5;124m'\u001b[39m\u001b[38;5;124mt let you open fd=\u001b[39m\u001b[38;5;132;01m{\u001b[39;00mfile\u001b[38;5;132;01m}\u001b[39;00m\u001b[38;5;124m by default \u001b[39m\u001b[38;5;124m\"\u001b[39m\n\u001b[1;32m    320\u001b[0m         \u001b[38;5;124m\"\u001b[39m\u001b[38;5;124mas it is likely to crash IPython. If you know what you are doing, \u001b[39m\u001b[38;5;124m\"\u001b[39m\n\u001b[1;32m    321\u001b[0m         \u001b[38;5;124m\"\u001b[39m\u001b[38;5;124myou can use builtins\u001b[39m\u001b[38;5;124m'\u001b[39m\u001b[38;5;124m open.\u001b[39m\u001b[38;5;124m\"\u001b[39m\n\u001b[1;32m    322\u001b[0m     )\n\u001b[0;32m--> 324\u001b[0m \u001b[38;5;28;01mreturn\u001b[39;00m \u001b[43mio_open\u001b[49m\u001b[43m(\u001b[49m\u001b[43mfile\u001b[49m\u001b[43m,\u001b[49m\u001b[43m \u001b[49m\u001b[38;5;241;43m*\u001b[39;49m\u001b[43margs\u001b[49m\u001b[43m,\u001b[49m\u001b[43m \u001b[49m\u001b[38;5;241;43m*\u001b[39;49m\u001b[38;5;241;43m*\u001b[39;49m\u001b[43mkwargs\u001b[49m\u001b[43m)\u001b[49m\n",
            "\u001b[0;31mFileNotFoundError\u001b[0m: [Errno 2] No such file or directory: 'videos/test_policy1.mp4'"
          ]
        }
      ],
      "source": [
        "# Ignore specific warning\n",
        "import warnings\n",
        "warnings.filterwarnings(\"ignore\", message=\".*tostring.*is deprecated.*\")\n",
        "\n",
        "movie = True #we want to save a video\n",
        "frames = []\n",
        "view = 'front'\n",
        "for _ in range(2):\n",
        "    ep_rewards = []\n",
        "    done = False\n",
        "    obs = env.reset()\n",
        "    for step in range(500):\n",
        "        if done: break\n",
        "        obs = env.obsdict2obsvec(env.obs_dict, env.obs_keys)[1]\n",
        "        action, _ = model.predict(obs, deterministic=True)\n",
        "        # hard-coding the myoHand to release object\n",
        "        action[30] = 1\n",
        "        if step > 130:\n",
        "    #   if obs.\n",
        "            action[32:40] = 0\n",
        "            action[40:49] = 1\n",
        "\n",
        "        #hard coding the MPL to the desire position, since we know the actuation of the MPL is the last 17 index of action\n",
        "        action[-17:] = np.array([-0.65001469 , 1.     ,    -0.23187843 , 0.59583695 , 0.92356688, -0.16,\n",
        "                                -0.28 ,      -0.88   ,     0.25 ,      -0.846   ,   -0.24981132 ,-0.91823529,\n",
        "                                -0.945  ,    -0.925   ,   -0.929   ,   -0.49    ,   -0.18      ])\n",
        "        if step > 250:\n",
        "            action[-17:] = np.array([-0.4199236 ,  1.      ,   -0.9840558 ,  0.35299219,  0.92356688,  0.02095238,\n",
        "                                        -0.28    ,   -0.88  ,      0.25      , -0.846     , -0.24981132, -0.91823529,\n",
        "                                        -0.945   ,   -0.925   ,   -0.929    ,  -0.49     ,  -0.918     ])\n",
        "        if step > 350:\n",
        "            action[-17:] = np.array([-0.4199236 ,  1.     ,    -0.9840558,   0.35299219 , 0.3910828 ,  0.02095238,\n",
        "                                        -0.28    ,   -0.88     ,   0.25   ,    -0.846     , -0.24981132 ,-0.91823529,\n",
        "                                        -0.945    ,  -0.925    ,  -0.929    ,  -0.49  ,     -0.918     ])\n",
        "\n",
        "        obs, reward, done, info, info_2 = env.step(action)\n",
        "        if movie:\n",
        "            geom_1_indices = np.where(env.sim.model.geom_group == 1)\n",
        "            env.sim.model.geom_rgba[geom_1_indices, 3] = 0\n",
        "            frame = env.sim.renderer.render_offscreen(width= 400, height=400,camera_id=1)\n",
        "            frames.append(frame)\n",
        "\n",
        "env.close()\n",
        "\n",
        "os.makedirs('videos', exist_ok=True)\n",
        "# make a local copy\n",
        "skvideo.io.vwrite('videos/test_policy1.mp4', np.asarray(frames), inputdict = {'-r': '100'}, outputdict={\"-pix_fmt\": \"yuv420p\"})\n",
        "show_video('videos/test_policy1.mp4')"
      ]
    },
    {
      "cell_type": "markdown",
      "metadata": {
        "id": "tkyMR0KEY2VK"
      },
      "source": [
        "You will first notice that only in some occasion the myoHand is grasping the object. This is because the baseline is trained upon simple no variation conditions. To fully replicate the baseline behavior, initiate the env with no variations:\n",
        "\n",
        "\n",
        "```\n",
        "kwargs={\n",
        "            'model_path': curr_dir + '/../assets/arm/myoarm_bionic_bimanual.xml',\n",
        "            'normalize_act': True,\n",
        "            'frame_skip': 5,\n",
        "            'obj_scale_change': None\n",
        "            'obj_mass_change': None\n",
        "            'obj_friction_change': None\n",
        "        }\n",
        "```\n",
        "\n",
        "!Note: The evaluation env will still have variations"
      ]
    },
    {
      "cell_type": "markdown",
      "metadata": {
        "id": "qSGuhMj_ZUob"
      },
      "source": [
        "## With all of those set, you can fully replicate the new baseline solution and build on top of it. Happy training!"
      ]
    }
  ],
  "metadata": {
    "colab": {
      "provenance": []
    },
    "kernelspec": {
      "display_name": "Python 3",
      "name": "python3"
    },
    "language_info": {
      "codemirror_mode": {
        "name": "ipython",
        "version": 3
      },
      "file_extension": ".py",
      "mimetype": "text/x-python",
      "name": "python",
      "nbconvert_exporter": "python",
      "pygments_lexer": "ipython3",
      "version": "3.10.12"
    },
    "widgets": {
      "application/vnd.jupyter.widget-state+json": {
        "0c5a380994ea4718877b243bc71189d5": {
          "model_module": "@jupyter-widgets/controls",
          "model_module_version": "1.5.0",
          "model_name": "HTMLModel",
          "state": {
            "_dom_classes": [],
            "_model_module": "@jupyter-widgets/controls",
            "_model_module_version": "1.5.0",
            "_model_name": "HTMLModel",
            "_view_count": null,
            "_view_module": "@jupyter-widgets/controls",
            "_view_module_version": "1.5.0",
            "_view_name": "HTMLView",
            "description": "",
            "description_tooltip": null,
            "layout": "IPY_MODEL_7dbc44aeeabc49879d88b7f39361896f",
            "placeholder": "​",
            "style": "IPY_MODEL_d35449dee75144fd821a6c2f5055fffa",
            "value": " 50%"
          }
        },
        "1042a57f2b004f7b8e64c9a3e35333dc": {
          "model_module": "@jupyter-widgets/controls",
          "model_module_version": "1.5.0",
          "model_name": "HBoxModel",
          "state": {
            "_dom_classes": [],
            "_model_module": "@jupyter-widgets/controls",
            "_model_module_version": "1.5.0",
            "_model_name": "HBoxModel",
            "_view_count": null,
            "_view_module": "@jupyter-widgets/controls",
            "_view_module_version": "1.5.0",
            "_view_name": "HBoxView",
            "box_style": "",
            "children": [
              "IPY_MODEL_0c5a380994ea4718877b243bc71189d5",
              "IPY_MODEL_73e5c659dfe446e999420ffd9a19357d",
              "IPY_MODEL_bf39a5f2d98a4dda9a10e768786e0391"
            ],
            "layout": "IPY_MODEL_9d19aa50483f4023a41b0f28847e2b31"
          }
        },
        "3f946209e87e41e3a8ff374cdc222c75": {
          "model_module": "@jupyter-widgets/base",
          "model_module_version": "1.2.0",
          "model_name": "LayoutModel",
          "state": {
            "_model_module": "@jupyter-widgets/base",
            "_model_module_version": "1.2.0",
            "_model_name": "LayoutModel",
            "_view_count": null,
            "_view_module": "@jupyter-widgets/base",
            "_view_module_version": "1.2.0",
            "_view_name": "LayoutView",
            "align_content": null,
            "align_items": null,
            "align_self": null,
            "border": null,
            "bottom": null,
            "display": null,
            "flex": null,
            "flex_flow": null,
            "grid_area": null,
            "grid_auto_columns": null,
            "grid_auto_flow": null,
            "grid_auto_rows": null,
            "grid_column": null,
            "grid_gap": null,
            "grid_row": null,
            "grid_template_areas": null,
            "grid_template_columns": null,
            "grid_template_rows": null,
            "height": null,
            "justify_content": null,
            "justify_items": null,
            "left": null,
            "margin": null,
            "max_height": null,
            "max_width": null,
            "min_height": null,
            "min_width": null,
            "object_fit": null,
            "object_position": null,
            "order": null,
            "overflow": null,
            "overflow_x": null,
            "overflow_y": null,
            "padding": null,
            "right": null,
            "top": null,
            "visibility": null,
            "width": null
          }
        },
        "73e5c659dfe446e999420ffd9a19357d": {
          "model_module": "@jupyter-widgets/controls",
          "model_module_version": "1.5.0",
          "model_name": "FloatProgressModel",
          "state": {
            "_dom_classes": [],
            "_model_module": "@jupyter-widgets/controls",
            "_model_module_version": "1.5.0",
            "_model_name": "FloatProgressModel",
            "_view_count": null,
            "_view_module": "@jupyter-widgets/controls",
            "_view_module_version": "1.5.0",
            "_view_name": "ProgressView",
            "bar_style": "",
            "description": "",
            "description_tooltip": null,
            "layout": "IPY_MODEL_3f946209e87e41e3a8ff374cdc222c75",
            "max": 2,
            "min": 0,
            "orientation": "horizontal",
            "style": "IPY_MODEL_f2d72b9aafe845ad874fee104ad1be35",
            "value": 1
          }
        },
        "7dbc44aeeabc49879d88b7f39361896f": {
          "model_module": "@jupyter-widgets/base",
          "model_module_version": "1.2.0",
          "model_name": "LayoutModel",
          "state": {
            "_model_module": "@jupyter-widgets/base",
            "_model_module_version": "1.2.0",
            "_model_name": "LayoutModel",
            "_view_count": null,
            "_view_module": "@jupyter-widgets/base",
            "_view_module_version": "1.2.0",
            "_view_name": "LayoutView",
            "align_content": null,
            "align_items": null,
            "align_self": null,
            "border": null,
            "bottom": null,
            "display": null,
            "flex": null,
            "flex_flow": null,
            "grid_area": null,
            "grid_auto_columns": null,
            "grid_auto_flow": null,
            "grid_auto_rows": null,
            "grid_column": null,
            "grid_gap": null,
            "grid_row": null,
            "grid_template_areas": null,
            "grid_template_columns": null,
            "grid_template_rows": null,
            "height": null,
            "justify_content": null,
            "justify_items": null,
            "left": null,
            "margin": null,
            "max_height": null,
            "max_width": null,
            "min_height": null,
            "min_width": null,
            "object_fit": null,
            "object_position": null,
            "order": null,
            "overflow": null,
            "overflow_x": null,
            "overflow_y": null,
            "padding": null,
            "right": null,
            "top": null,
            "visibility": null,
            "width": null
          }
        },
        "8579dea2e7ad443f9ffccbf18d04fbc8": {
          "model_module": "@jupyter-widgets/base",
          "model_module_version": "1.2.0",
          "model_name": "LayoutModel",
          "state": {
            "_model_module": "@jupyter-widgets/base",
            "_model_module_version": "1.2.0",
            "_model_name": "LayoutModel",
            "_view_count": null,
            "_view_module": "@jupyter-widgets/base",
            "_view_module_version": "1.2.0",
            "_view_name": "LayoutView",
            "align_content": null,
            "align_items": null,
            "align_self": null,
            "border": null,
            "bottom": null,
            "display": null,
            "flex": null,
            "flex_flow": null,
            "grid_area": null,
            "grid_auto_columns": null,
            "grid_auto_flow": null,
            "grid_auto_rows": null,
            "grid_column": null,
            "grid_gap": null,
            "grid_row": null,
            "grid_template_areas": null,
            "grid_template_columns": null,
            "grid_template_rows": null,
            "height": null,
            "justify_content": null,
            "justify_items": null,
            "left": null,
            "margin": null,
            "max_height": null,
            "max_width": null,
            "min_height": null,
            "min_width": null,
            "object_fit": null,
            "object_position": null,
            "order": null,
            "overflow": null,
            "overflow_x": null,
            "overflow_y": null,
            "padding": null,
            "right": null,
            "top": null,
            "visibility": null,
            "width": null
          }
        },
        "9d19aa50483f4023a41b0f28847e2b31": {
          "model_module": "@jupyter-widgets/base",
          "model_module_version": "1.2.0",
          "model_name": "LayoutModel",
          "state": {
            "_model_module": "@jupyter-widgets/base",
            "_model_module_version": "1.2.0",
            "_model_name": "LayoutModel",
            "_view_count": null,
            "_view_module": "@jupyter-widgets/base",
            "_view_module_version": "1.2.0",
            "_view_name": "LayoutView",
            "align_content": null,
            "align_items": null,
            "align_self": null,
            "border": null,
            "bottom": null,
            "display": null,
            "flex": null,
            "flex_flow": null,
            "grid_area": null,
            "grid_auto_columns": null,
            "grid_auto_flow": null,
            "grid_auto_rows": null,
            "grid_column": null,
            "grid_gap": null,
            "grid_row": null,
            "grid_template_areas": null,
            "grid_template_columns": null,
            "grid_template_rows": null,
            "height": null,
            "justify_content": null,
            "justify_items": null,
            "left": null,
            "margin": null,
            "max_height": null,
            "max_width": null,
            "min_height": null,
            "min_width": null,
            "object_fit": null,
            "object_position": null,
            "order": null,
            "overflow": null,
            "overflow_x": null,
            "overflow_y": null,
            "padding": null,
            "right": null,
            "top": null,
            "visibility": null,
            "width": null
          }
        },
        "bf39a5f2d98a4dda9a10e768786e0391": {
          "model_module": "@jupyter-widgets/controls",
          "model_module_version": "1.5.0",
          "model_name": "HTMLModel",
          "state": {
            "_dom_classes": [],
            "_model_module": "@jupyter-widgets/controls",
            "_model_module_version": "1.5.0",
            "_model_name": "HTMLModel",
            "_view_count": null,
            "_view_module": "@jupyter-widgets/controls",
            "_view_module_version": "1.5.0",
            "_view_name": "HTMLView",
            "description": "",
            "description_tooltip": null,
            "layout": "IPY_MODEL_8579dea2e7ad443f9ffccbf18d04fbc8",
            "placeholder": "​",
            "style": "IPY_MODEL_fde30e6d84984ee6a04a814769fc075e",
            "value": " 1/2 [01:55&lt;01:55, 115.26s/it]"
          }
        },
        "d35449dee75144fd821a6c2f5055fffa": {
          "model_module": "@jupyter-widgets/controls",
          "model_module_version": "1.5.0",
          "model_name": "DescriptionStyleModel",
          "state": {
            "_model_module": "@jupyter-widgets/controls",
            "_model_module_version": "1.5.0",
            "_model_name": "DescriptionStyleModel",
            "_view_count": null,
            "_view_module": "@jupyter-widgets/base",
            "_view_module_version": "1.2.0",
            "_view_name": "StyleView",
            "description_width": ""
          }
        },
        "f2d72b9aafe845ad874fee104ad1be35": {
          "model_module": "@jupyter-widgets/controls",
          "model_module_version": "1.5.0",
          "model_name": "ProgressStyleModel",
          "state": {
            "_model_module": "@jupyter-widgets/controls",
            "_model_module_version": "1.5.0",
            "_model_name": "ProgressStyleModel",
            "_view_count": null,
            "_view_module": "@jupyter-widgets/base",
            "_view_module_version": "1.2.0",
            "_view_name": "StyleView",
            "bar_color": null,
            "description_width": ""
          }
        },
        "fde30e6d84984ee6a04a814769fc075e": {
          "model_module": "@jupyter-widgets/controls",
          "model_module_version": "1.5.0",
          "model_name": "DescriptionStyleModel",
          "state": {
            "_model_module": "@jupyter-widgets/controls",
            "_model_module_version": "1.5.0",
            "_model_name": "DescriptionStyleModel",
            "_view_count": null,
            "_view_module": "@jupyter-widgets/base",
            "_view_module_version": "1.2.0",
            "_view_name": "StyleView",
            "description_width": ""
          }
        }
      }
    }
  },
  "nbformat": 4,
  "nbformat_minor": 0
}
